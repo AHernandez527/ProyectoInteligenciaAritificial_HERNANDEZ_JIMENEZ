{
  "nbformat": 4,
  "nbformat_minor": 0,
  "metadata": {
    "colab": {
      "name": "Proyecto_Final_JJiménez_AHernández.ipynb",
      "provenance": [],
      "collapsed_sections": [
        "TmEhPXt5GJB5",
        "KBvnQ2VSLtjt",
        "CMYLhCUwVBSp",
        "u2TVjSrGUyaK",
        "UlmE_mCxU3fh",
        "6YDlXeRqVLyc",
        "u0nGINJLJXrm",
        "jCJ1-X64_7gX",
        "InUJM8fOPRNi",
        "QuHFCSa5PXoT",
        "l8GpUTxcrADF"
      ],
      "include_colab_link": true
    },
    "kernelspec": {
      "name": "python3",
      "display_name": "Python 3"
    },
    "language_info": {
      "name": "python"
    }
  },
  "cells": [
    {
      "cell_type": "markdown",
      "metadata": {
        "id": "view-in-github",
        "colab_type": "text"
      },
      "source": [
        "<a href=\"https://colab.research.google.com/github/AHernandez527/ProyectoInteligenciaAritificial_HERNANDEZ_JIMENEZ/blob/main/Proyecto_Final_JJim%C3%A9nez_AHern%C3%A1ndez.ipynb\" target=\"_parent\"><img src=\"https://colab.research.google.com/assets/colab-badge.svg\" alt=\"Open In Colab\"/></a>"
      ]
    },
    {
      "cell_type": "markdown",
      "metadata": {
        "id": "nHiqraYKdU6V"
      },
      "source": [
        "#Proyecto Final\n",
        "##Estudiantes:\n",
        "*   Juan Pablo Jiménez Anderson        | 2018099431  \n",
        "*   Adriana Vanessa Hernández Calderón | 2019380075\n"
      ]
    },
    {
      "cell_type": "markdown",
      "metadata": {
        "id": "TmEhPXt5GJB5"
      },
      "source": [
        "#!pip install's"
      ]
    },
    {
      "cell_type": "code",
      "metadata": {
        "colab": {
          "base_uri": "https://localhost:8080/"
        },
        "id": "agROZ-TFGMAs",
        "outputId": "92177f52-3815-48ae-f329-cadd60d86a3b"
      },
      "source": [
        "!pip install category_encoders"
      ],
      "execution_count": null,
      "outputs": [
        {
          "output_type": "stream",
          "name": "stdout",
          "text": [
            "Requirement already satisfied: category_encoders in /usr/local/lib/python3.7/dist-packages (2.3.0)\n",
            "Requirement already satisfied: numpy>=1.14.0 in /usr/local/lib/python3.7/dist-packages (from category_encoders) (1.19.5)\n",
            "Requirement already satisfied: patsy>=0.5.1 in /usr/local/lib/python3.7/dist-packages (from category_encoders) (0.5.2)\n",
            "Requirement already satisfied: statsmodels>=0.9.0 in /usr/local/lib/python3.7/dist-packages (from category_encoders) (0.10.2)\n",
            "Requirement already satisfied: pandas>=0.21.1 in /usr/local/lib/python3.7/dist-packages (from category_encoders) (1.1.5)\n",
            "Requirement already satisfied: scipy>=1.0.0 in /usr/local/lib/python3.7/dist-packages (from category_encoders) (1.4.1)\n",
            "Requirement already satisfied: scikit-learn>=0.20.0 in /usr/local/lib/python3.7/dist-packages (from category_encoders) (1.0.1)\n",
            "Requirement already satisfied: pytz>=2017.2 in /usr/local/lib/python3.7/dist-packages (from pandas>=0.21.1->category_encoders) (2018.9)\n",
            "Requirement already satisfied: python-dateutil>=2.7.3 in /usr/local/lib/python3.7/dist-packages (from pandas>=0.21.1->category_encoders) (2.8.2)\n",
            "Requirement already satisfied: six in /usr/local/lib/python3.7/dist-packages (from patsy>=0.5.1->category_encoders) (1.15.0)\n",
            "Requirement already satisfied: threadpoolctl>=2.0.0 in /usr/local/lib/python3.7/dist-packages (from scikit-learn>=0.20.0->category_encoders) (3.0.0)\n",
            "Requirement already satisfied: joblib>=0.11 in /usr/local/lib/python3.7/dist-packages (from scikit-learn>=0.20.0->category_encoders) (1.1.0)\n"
          ]
        }
      ]
    },
    {
      "cell_type": "code",
      "metadata": {
        "id": "wxUENItld3U0"
      },
      "source": [
        ""
      ],
      "execution_count": null,
      "outputs": []
    },
    {
      "cell_type": "markdown",
      "metadata": {
        "id": "kq0Ko_orWBmE"
      },
      "source": [
        "#Librerias"
      ]
    },
    {
      "cell_type": "code",
      "metadata": {
        "id": "71yPAbjxWBJC"
      },
      "source": [
        "import pandas as pd                                                             # Importa Pandas para manejo de datos\n",
        "import numpy as np                                                              # Importa numpy para manejo de arrays\n",
        "from numpy import exp, array, random, dot                                       # Importa funciones utiles de numpy\n",
        "from sklearn import preprocessing                                               # Importa sklearn que es útil en redes neuronales\n",
        "from sklearn.model_selection import train_test_split                            # Importa herramienta para separar los datos\n",
        "import matplotlib.pyplot as plt                                                 # Importa matplot para visualizaciones gráficas\n",
        "import seaborn as sns                                                           # Para visualización\n",
        "%matplotlib inline\n",
        "sns.set(color_codes=True)\n",
        "import category_encoders as ce\n",
        "import tensorflow as tf\n",
        "from tensorflow import keras\n",
        "from keras.models import Sequential\n",
        "from keras.layers import Dense\n",
        "from keras.callbacks import History\n",
        "from sklearn.feature_selection import SelectKBest\n",
        "from sklearn.feature_selection import chi2\n",
        "from sklearn.ensemble import RandomForestClassifier\n",
        "from sklearn.datasets import make_classification\n",
        "from sklearn import metrics\n",
        "from sklearn.metrics import accuracy_score, confusion_matrix\n",
        "from sklearn.metrics import classification_report"
      ],
      "execution_count": null,
      "outputs": []
    },
    {
      "cell_type": "markdown",
      "metadata": {
        "id": "57pDiA3LKjdt"
      },
      "source": [
        "#Proyecto Final Inteligencia Artificial\n",
        "Enunciado: Se presenta una serie de datos estadísticos relativos a un conjunto de personas, organizados de tal forma que\n",
        "son la base que permite generar soluciones que predigan los ingresos de dichos individuos (en base a dos\n",
        "categorías: superiores o inferiores a 50.000 USD al año). Sobre la base de dichos datos han de establecer\n",
        "ustedes:\n",
        "\n",
        "\n",
        "1.   Un clasificador de datos que permita dicha predicción, usando ustedes el paradigma de IA que consideren\n",
        "más adecuado\n",
        "\n",
        "2.   Realicen un estudio EVIDENCIADO Y ARGUMENTADO que permita clasificar los diferentes atributos en\n",
        "función de su importancia para el resultado final, en el caso anterior. En función de los 5 que hayan resultado\n",
        "mejores en dicha clasificación, generen un árbol de decisión y comparen los resultados con los del apartado 1\n",
        "\n",
        "3. Diseñen un segundo clasificador basado en un paradigma diferente al anterior, y comparen los resultados\n",
        "obtenidos con los del apartado 1\n",
        "\n"
      ]
    },
    {
      "cell_type": "markdown",
      "metadata": {
        "id": "KBvnQ2VSLtjt"
      },
      "source": [
        "## DataFrame\n",
        "Para crear un clasificador, el paradigma de Inteligencia artificial que mejores resultados ha mostrado a lo largo del curso ha sido redes del tipo MLP con un aprendizaje supervisado. El set de dtaos que se facilita está compuesto por 32561 instancias de 15 atributos los cuales se listan a continuación\n",
        "\n",
        "*   Age\n",
        "*   workclass\n",
        "*   fnlwgt\n",
        "*   education\n",
        "*   education-num\n",
        "*   marital-status\n",
        "*   ocupation\n",
        "*   relationship\n",
        "*   race\n",
        "*   sex\n",
        "*   capital-gain\n",
        "*   capital-loss\n",
        "*   hours-per-week\n",
        "*   native-country\n",
        "* '>50K, <=50K '\n",
        "\n",
        "De estos 15 atributos, el último de ellos se considerará label y los 14 restantes se consideraran features"
      ]
    },
    {
      "cell_type": "markdown",
      "metadata": {
        "id": "CMYLhCUwVBSp"
      },
      "source": [
        "###Manejo de los datos\n",
        "Primeramente se deben importar los datos que se dan en el sitio indicado, denominados ***Census Income Data Set***, estos datos se importarán a los archivos del notebook y se manipularán de manera que tengan la forma optima para introducirlos a la red."
      ]
    },
    {
      "cell_type": "markdown",
      "metadata": {
        "id": "x0cIChrmVzY1"
      },
      "source": [
        "#### Importación de los datos"
      ]
    },
    {
      "cell_type": "code",
      "metadata": {
        "id": "j_IrCY5DKRw7"
      },
      "source": [
        "from pydrive.auth import GoogleAuth                                              # Importa librerias necesarias para importar de drive y realiza autentificación\n",
        "from pydrive.drive import GoogleDrive\n",
        "from google.colab import auth\n",
        "from oauth2client.client import GoogleCredentials\n",
        "auth.authenticate_user()\n",
        "gauth = GoogleAuth()\n",
        "gauth.credentials = GoogleCredentials.get_application_default()\n",
        "drive = GoogleDrive(gauth)"
      ],
      "execution_count": null,
      "outputs": []
    },
    {
      "cell_type": "code",
      "metadata": {
        "id": "8aZh71TwYdRE"
      },
      "source": [
        "downloaded = drive.CreateFile({'id':\"1iqIA3aG-Tdia0-BIn3_CFcG8x8WCJfQQ\"})       # Ingresar ID del archivo (se obtiene Javascript en buscador)\n",
        "downloaded.GetContentFile('adult.data')                                         # Ingresar Nombre del archivo"
      ],
      "execution_count": null,
      "outputs": []
    },
    {
      "cell_type": "markdown",
      "metadata": {
        "id": "t9aZ969BZXYr"
      },
      "source": [
        "####Organización de los datos (asignación de labels a columna)"
      ]
    },
    {
      "cell_type": "code",
      "metadata": {
        "id": "j6xMHr4fgwVp"
      },
      "source": [
        "data = pd.read_csv(                                                             # Se lee con pandas un archivo csv\n",
        "    \"/content/adult.data\",\n",
        "    names=[\"Age\", \"workclass\", \"fnlwgt\", \"education\",\"education-num\",\n",
        "           \"marital-status\", \"ocupation\", \"relationship\", \"race\", \"sex\", \n",
        "           \"capital-gain\", \"capital-loss\", \"hours-per-week\", \"native-country\", \n",
        "           \"income\"])                                                           # Se separan cada uno de los datos con un tag."
      ],
      "execution_count": null,
      "outputs": []
    },
    {
      "cell_type": "code",
      "metadata": {
        "colab": {
          "base_uri": "https://localhost:8080/"
        },
        "id": "yZX9vRcG33d3",
        "outputId": "c35c99b0-7360-4d3b-bc7b-ee00f06a7637"
      },
      "source": [
        "data.shape"
      ],
      "execution_count": null,
      "outputs": [
        {
          "output_type": "execute_result",
          "data": {
            "text/plain": [
              "(32561, 15)"
            ]
          },
          "metadata": {},
          "execution_count": 253
        }
      ]
    },
    {
      "cell_type": "markdown",
      "metadata": {
        "id": "9LRd7CdGvClr"
      },
      "source": [
        "###EDA\n",
        "El exploratory data analysis se utiliza para corroborar que los datos que se introducen a la red no vayan a causar un problema de ejecución."
      ]
    },
    {
      "cell_type": "code",
      "metadata": {
        "colab": {
          "base_uri": "https://localhost:8080/"
        },
        "id": "6Us-_WjButy0",
        "outputId": "32c64d1e-e9a5-4fd9-e901-9d026e475575"
      },
      "source": [
        "df = data\n",
        "df.dtypes                                                                       # Permite observar el tipo de datos"
      ],
      "execution_count": null,
      "outputs": [
        {
          "output_type": "execute_result",
          "data": {
            "text/plain": [
              "Age                int64\n",
              "workclass         object\n",
              "fnlwgt             int64\n",
              "education         object\n",
              "education-num      int64\n",
              "marital-status    object\n",
              "ocupation         object\n",
              "relationship      object\n",
              "race              object\n",
              "sex               object\n",
              "capital-gain       int64\n",
              "capital-loss       int64\n",
              "hours-per-week     int64\n",
              "native-country    object\n",
              "income            object\n",
              "dtype: object"
            ]
          },
          "metadata": {},
          "execution_count": 254
        }
      ]
    },
    {
      "cell_type": "markdown",
      "metadata": {
        "id": "KsLIN4HNxcVO"
      },
      "source": [
        "En el conjunto de datos, puede darse el caso de que existan filas que se repitan, por lo que para evitar datos adicionale innecesarios se eliminarán "
      ]
    },
    {
      "cell_type": "code",
      "metadata": {
        "colab": {
          "base_uri": "https://localhost:8080/"
        },
        "id": "FzgL5xpCxFFF",
        "outputId": "78afd6f7-b860-44ba-eb4e-543b5c8dd246"
      },
      "source": [
        "df.shape                                                                        # Muestra la forma del conjunto"
      ],
      "execution_count": null,
      "outputs": [
        {
          "output_type": "execute_result",
          "data": {
            "text/plain": [
              "(32561, 15)"
            ]
          },
          "metadata": {},
          "execution_count": 255
        }
      ]
    },
    {
      "cell_type": "markdown",
      "metadata": {
        "id": "u2TVjSrGUyaK"
      },
      "source": [
        "####Análisis de duplicados"
      ]
    },
    {
      "cell_type": "code",
      "metadata": {
        "colab": {
          "base_uri": "https://localhost:8080/"
        },
        "id": "FD_EsNM4xj8n",
        "outputId": "978f63c3-36d0-4bfd-98c2-59816814f5c2"
      },
      "source": [
        "duplicate_rows_df = df[df.duplicated()]\n",
        "print(\"Filas duplicadas: \", duplicate_rows_df.shape)"
      ],
      "execution_count": null,
      "outputs": [
        {
          "output_type": "stream",
          "name": "stdout",
          "text": [
            "Filas duplicadas:  (24, 15)\n"
          ]
        }
      ]
    },
    {
      "cell_type": "code",
      "metadata": {
        "colab": {
          "base_uri": "https://localhost:8080/"
        },
        "id": "YlPZsVKlyH2k",
        "outputId": "d73f186d-18b9-4575-a142-a08b22e9e41d"
      },
      "source": [
        "df.count()                                                                      # Cuenta cuantos elementos por columna hay"
      ],
      "execution_count": null,
      "outputs": [
        {
          "output_type": "execute_result",
          "data": {
            "text/plain": [
              "Age               32561\n",
              "workclass         32561\n",
              "fnlwgt            32561\n",
              "education         32561\n",
              "education-num     32561\n",
              "marital-status    32561\n",
              "ocupation         32561\n",
              "relationship      32561\n",
              "race              32561\n",
              "sex               32561\n",
              "capital-gain      32561\n",
              "capital-loss      32561\n",
              "hours-per-week    32561\n",
              "native-country    32561\n",
              "income            32561\n",
              "dtype: int64"
            ]
          },
          "metadata": {},
          "execution_count": 257
        }
      ]
    },
    {
      "cell_type": "markdown",
      "metadata": {
        "id": "NtPyX39DyPSg"
      },
      "source": [
        "De las 32561 filas, se eliminaran las 24 filas duplicadas"
      ]
    },
    {
      "cell_type": "code",
      "metadata": {
        "id": "yVw43h6NyWJu"
      },
      "source": [
        "df= df.drop_duplicates()                                                        # Hace un drop a las filas duplicadas"
      ],
      "execution_count": null,
      "outputs": []
    },
    {
      "cell_type": "code",
      "metadata": {
        "colab": {
          "base_uri": "https://localhost:8080/"
        },
        "id": "yAXQKvHTyluF",
        "outputId": "f19d8944-8287-4f71-efb3-3fcd85d3fb69"
      },
      "source": [
        "df.count()                                                                      # Vuelve a contar los elementos por columna"
      ],
      "execution_count": null,
      "outputs": [
        {
          "output_type": "execute_result",
          "data": {
            "text/plain": [
              "Age               32537\n",
              "workclass         32537\n",
              "fnlwgt            32537\n",
              "education         32537\n",
              "education-num     32537\n",
              "marital-status    32537\n",
              "ocupation         32537\n",
              "relationship      32537\n",
              "race              32537\n",
              "sex               32537\n",
              "capital-gain      32537\n",
              "capital-loss      32537\n",
              "hours-per-week    32537\n",
              "native-country    32537\n",
              "income            32537\n",
              "dtype: int64"
            ]
          },
          "metadata": {},
          "execution_count": 259
        }
      ]
    },
    {
      "cell_type": "markdown",
      "metadata": {
        "id": "UlmE_mCxU3fh"
      },
      "source": [
        "####Análisis de faltantes y nulos"
      ]
    },
    {
      "cell_type": "markdown",
      "metadata": {
        "id": "ZIOKIDmWzS2v"
      },
      "source": [
        "Una vez se han eliminado las filas duplicadas, se procede a ubicar y eliminar valores faltantes o nulos"
      ]
    },
    {
      "cell_type": "code",
      "metadata": {
        "colab": {
          "base_uri": "https://localhost:8080/"
        },
        "id": "pDFnuXmXzpaX",
        "outputId": "a8fbb8d7-ae46-4155-9ca2-8ccf71558c25"
      },
      "source": [
        "print(df.isnull().sum())                                                        # Identifica los valores nulos de cada una de las columnas"
      ],
      "execution_count": null,
      "outputs": [
        {
          "output_type": "stream",
          "name": "stdout",
          "text": [
            "Age               0\n",
            "workclass         0\n",
            "fnlwgt            0\n",
            "education         0\n",
            "education-num     0\n",
            "marital-status    0\n",
            "ocupation         0\n",
            "relationship      0\n",
            "race              0\n",
            "sex               0\n",
            "capital-gain      0\n",
            "capital-loss      0\n",
            "hours-per-week    0\n",
            "native-country    0\n",
            "income            0\n",
            "dtype: int64\n"
          ]
        }
      ]
    },
    {
      "cell_type": "markdown",
      "metadata": {
        "id": "rPwkIqOFzygx"
      },
      "source": [
        "Como no se tienen valores nulos, no es necesario eliminarlos. el paso siguiente es identificar los valores que se salen del rango, por ejemplo, una edad o muy alta, o muy baja, etc. Primero se mostrará un head para observar como se ve el set de datos."
      ]
    },
    {
      "cell_type": "code",
      "metadata": {
        "colab": {
          "base_uri": "https://localhost:8080/"
        },
        "id": "wf6lNjhQ3Wyz",
        "outputId": "5894aaf0-9084-4cef-dbd5-abb3ca478ceb"
      },
      "source": [
        "df.head()"
      ],
      "execution_count": null,
      "outputs": [
        {
          "output_type": "execute_result",
          "data": {
            "text/html": [
              "<div>\n",
              "<style scoped>\n",
              "    .dataframe tbody tr th:only-of-type {\n",
              "        vertical-align: middle;\n",
              "    }\n",
              "\n",
              "    .dataframe tbody tr th {\n",
              "        vertical-align: top;\n",
              "    }\n",
              "\n",
              "    .dataframe thead th {\n",
              "        text-align: right;\n",
              "    }\n",
              "</style>\n",
              "<table border=\"1\" class=\"dataframe\">\n",
              "  <thead>\n",
              "    <tr style=\"text-align: right;\">\n",
              "      <th></th>\n",
              "      <th>Age</th>\n",
              "      <th>workclass</th>\n",
              "      <th>fnlwgt</th>\n",
              "      <th>education</th>\n",
              "      <th>education-num</th>\n",
              "      <th>marital-status</th>\n",
              "      <th>ocupation</th>\n",
              "      <th>relationship</th>\n",
              "      <th>race</th>\n",
              "      <th>sex</th>\n",
              "      <th>capital-gain</th>\n",
              "      <th>capital-loss</th>\n",
              "      <th>hours-per-week</th>\n",
              "      <th>native-country</th>\n",
              "      <th>income</th>\n",
              "    </tr>\n",
              "  </thead>\n",
              "  <tbody>\n",
              "    <tr>\n",
              "      <th>0</th>\n",
              "      <td>39</td>\n",
              "      <td>State-gov</td>\n",
              "      <td>77516</td>\n",
              "      <td>Bachelors</td>\n",
              "      <td>13</td>\n",
              "      <td>Never-married</td>\n",
              "      <td>Adm-clerical</td>\n",
              "      <td>Not-in-family</td>\n",
              "      <td>White</td>\n",
              "      <td>Male</td>\n",
              "      <td>2174</td>\n",
              "      <td>0</td>\n",
              "      <td>40</td>\n",
              "      <td>United-States</td>\n",
              "      <td>&lt;=50K</td>\n",
              "    </tr>\n",
              "    <tr>\n",
              "      <th>1</th>\n",
              "      <td>50</td>\n",
              "      <td>Self-emp-not-inc</td>\n",
              "      <td>83311</td>\n",
              "      <td>Bachelors</td>\n",
              "      <td>13</td>\n",
              "      <td>Married-civ-spouse</td>\n",
              "      <td>Exec-managerial</td>\n",
              "      <td>Husband</td>\n",
              "      <td>White</td>\n",
              "      <td>Male</td>\n",
              "      <td>0</td>\n",
              "      <td>0</td>\n",
              "      <td>13</td>\n",
              "      <td>United-States</td>\n",
              "      <td>&lt;=50K</td>\n",
              "    </tr>\n",
              "    <tr>\n",
              "      <th>2</th>\n",
              "      <td>38</td>\n",
              "      <td>Private</td>\n",
              "      <td>215646</td>\n",
              "      <td>HS-grad</td>\n",
              "      <td>9</td>\n",
              "      <td>Divorced</td>\n",
              "      <td>Handlers-cleaners</td>\n",
              "      <td>Not-in-family</td>\n",
              "      <td>White</td>\n",
              "      <td>Male</td>\n",
              "      <td>0</td>\n",
              "      <td>0</td>\n",
              "      <td>40</td>\n",
              "      <td>United-States</td>\n",
              "      <td>&lt;=50K</td>\n",
              "    </tr>\n",
              "    <tr>\n",
              "      <th>3</th>\n",
              "      <td>53</td>\n",
              "      <td>Private</td>\n",
              "      <td>234721</td>\n",
              "      <td>11th</td>\n",
              "      <td>7</td>\n",
              "      <td>Married-civ-spouse</td>\n",
              "      <td>Handlers-cleaners</td>\n",
              "      <td>Husband</td>\n",
              "      <td>Black</td>\n",
              "      <td>Male</td>\n",
              "      <td>0</td>\n",
              "      <td>0</td>\n",
              "      <td>40</td>\n",
              "      <td>United-States</td>\n",
              "      <td>&lt;=50K</td>\n",
              "    </tr>\n",
              "    <tr>\n",
              "      <th>4</th>\n",
              "      <td>28</td>\n",
              "      <td>Private</td>\n",
              "      <td>338409</td>\n",
              "      <td>Bachelors</td>\n",
              "      <td>13</td>\n",
              "      <td>Married-civ-spouse</td>\n",
              "      <td>Prof-specialty</td>\n",
              "      <td>Wife</td>\n",
              "      <td>Black</td>\n",
              "      <td>Female</td>\n",
              "      <td>0</td>\n",
              "      <td>0</td>\n",
              "      <td>40</td>\n",
              "      <td>Cuba</td>\n",
              "      <td>&lt;=50K</td>\n",
              "    </tr>\n",
              "  </tbody>\n",
              "</table>\n",
              "</div>"
            ],
            "text/plain": [
              "   Age          workclass  fnlwgt  ... hours-per-week  native-country  income\n",
              "0   39          State-gov   77516  ...             40   United-States   <=50K\n",
              "1   50   Self-emp-not-inc   83311  ...             13   United-States   <=50K\n",
              "2   38            Private  215646  ...             40   United-States   <=50K\n",
              "3   53            Private  234721  ...             40   United-States   <=50K\n",
              "4   28            Private  338409  ...             40            Cuba   <=50K\n",
              "\n",
              "[5 rows x 15 columns]"
            ]
          },
          "metadata": {},
          "execution_count": 261
        }
      ]
    },
    {
      "cell_type": "markdown",
      "metadata": {
        "id": "6YDlXeRqVLyc"
      },
      "source": [
        "####Anális de outliers"
      ]
    },
    {
      "cell_type": "markdown",
      "metadata": {
        "id": "OL1V0ptQUG6k"
      },
      "source": [
        "Ahora se muestra la distribución de los datos numéricos para identificar si existen datos fuera de los límites"
      ]
    },
    {
      "cell_type": "code",
      "metadata": {
        "colab": {
          "base_uri": "https://localhost:8080/"
        },
        "id": "X2XLHhkj0JH3",
        "outputId": "6f22e981-b837-4607-9703-1ca7e9e8c5f6"
      },
      "source": [
        "sns.boxplot(x=df[\"Age\"])"
      ],
      "execution_count": null,
      "outputs": [
        {
          "output_type": "execute_result",
          "data": {
            "text/plain": [
              "<matplotlib.axes._subplots.AxesSubplot at 0x7fbbd28e5b10>"
            ]
          },
          "metadata": {},
          "execution_count": 262
        },
        {
          "output_type": "display_data",
          "data": {
            "image/png": "[encoded data removed]",
            "text/plain": [
              "<Figure size 432x288 with 1 Axes>"
            ]
          },
          "metadata": {}
        }
      ]
    },
    {
      "cell_type": "code",
      "metadata": {
        "colab": {
          "base_uri": "https://localhost:8080/"
        },
        "id": "jTGb75K2UDHi",
        "outputId": "e550fbd9-7d02-481a-f1d0-d35bff9317ad"
      },
      "source": [
        "sns.boxplot(x=df['fnlwgt'])"
      ],
      "execution_count": null,
      "outputs": [
        {
          "output_type": "execute_result",
          "data": {
            "text/plain": [
              "<matplotlib.axes._subplots.AxesSubplot at 0x7fbbd28a0ad0>"
            ]
          },
          "metadata": {},
          "execution_count": 263
        },
        {
          "output_type": "display_data",
          "data": {
            "image/png": "[encoded data removed]",
            "text/plain": [
              "<Figure size 432x288 with 1 Axes>"
            ]
          },
          "metadata": {}
        }
      ]
    },
    {
      "cell_type": "code",
      "metadata": {
        "colab": {
          "base_uri": "https://localhost:8080/"
        },
        "id": "vsekO7gOUkRT",
        "outputId": "aa6fb825-0376-4826-fb67-2bd1e1b1da02"
      },
      "source": [
        "sns.boxplot(x=df['education-num'])"
      ],
      "execution_count": null,
      "outputs": [
        {
          "output_type": "execute_result",
          "data": {
            "text/plain": [
              "<matplotlib.axes._subplots.AxesSubplot at 0x7fbbd2815650>"
            ]
          },
          "metadata": {},
          "execution_count": 264
        },
        {
          "output_type": "display_data",
          "data": {
            "image/png": "[encoded data removed]",
            "text/plain": [
              "<Figure size 432x288 with 1 Axes>"
            ]
          },
          "metadata": {}
        }
      ]
    },
    {
      "cell_type": "code",
      "metadata": {
        "colab": {
          "base_uri": "https://localhost:8080/"
        },
        "id": "7ksWKk-3UpRq",
        "outputId": "e7f0ab10-1caf-43a3-e398-d9f553f70141"
      },
      "source": [
        "sns.boxplot(x=df['capital-gain'])"
      ],
      "execution_count": null,
      "outputs": [
        {
          "output_type": "execute_result",
          "data": {
            "text/plain": [
              "<matplotlib.axes._subplots.AxesSubplot at 0x7fbbd27fbed0>"
            ]
          },
          "metadata": {},
          "execution_count": 265
        },
        {
          "output_type": "display_data",
          "data": {
            "image/png": "[encoded data removed]",
            "text/plain": [
              "<Figure size 432x288 with 1 Axes>"
            ]
          },
          "metadata": {}
        }
      ]
    },
    {
      "cell_type": "code",
      "metadata": {
        "colab": {
          "base_uri": "https://localhost:8080/"
        },
        "id": "14eDVOLkVdn_",
        "outputId": "76680343-5def-4110-cdba-e0c9b4bf2c0f"
      },
      "source": [
        "sns.boxplot(x=df['capital-loss'])"
      ],
      "execution_count": null,
      "outputs": [
        {
          "output_type": "execute_result",
          "data": {
            "text/plain": [
              "<matplotlib.axes._subplots.AxesSubplot at 0x7fbbd6fe9350>"
            ]
          },
          "metadata": {},
          "execution_count": 266
        },
        {
          "output_type": "display_data",
          "data": {
            "image/png": "[encoded data removed]",
            "text/plain": [
              "<Figure size 432x288 with 1 Axes>"
            ]
          },
          "metadata": {}
        }
      ]
    },
    {
      "cell_type": "code",
      "metadata": {
        "colab": {
          "base_uri": "https://localhost:8080/"
        },
        "id": "yo_yn-2xVi87",
        "outputId": "25de7f7c-f407-4f45-b118-022aa3c0aad1"
      },
      "source": [
        "sns.boxplot(x=df['hours-per-week'])"
      ],
      "execution_count": null,
      "outputs": [
        {
          "output_type": "execute_result",
          "data": {
            "text/plain": [
              "<matplotlib.axes._subplots.AxesSubplot at 0x7fbbd70680d0>"
            ]
          },
          "metadata": {},
          "execution_count": 267
        },
        {
          "output_type": "display_data",
          "data": {
            "image/png": "[encoded data removed]",
            "text/plain": [
              "<Figure size 432x288 with 1 Axes>"
            ]
          },
          "metadata": {}
        }
      ]
    },
    {
      "cell_type": "code",
      "metadata": {
        "colab": {
          "base_uri": "https://localhost:8080/"
        },
        "id": "LS8j0Pr0ZErh",
        "outputId": "4e8225c2-f869-4d5b-cc69-bcceb459e40e"
      },
      "source": [
        "Q1 = df.quantile(0.05)                                                          # Determina el cuantil 1 en 5%\n",
        "Q3 = df.quantile(0.95)                                                          # Determina el cuantil 1 en 95%\n",
        "IQR = Q3 - Q1\n",
        "print(IQR)"
      ],
      "execution_count": null,
      "outputs": [
        {
          "output_type": "stream",
          "name": "stdout",
          "text": [
            "Age                   44.0\n",
            "fnlwgt            340236.0\n",
            "education-num          9.0\n",
            "capital-gain        5013.0\n",
            "capital-loss           0.0\n",
            "hours-per-week        42.0\n",
            "dtype: float64\n"
          ]
        }
      ]
    },
    {
      "cell_type": "code",
      "metadata": {
        "colab": {
          "base_uri": "https://localhost:8080/"
        },
        "id": "2_TZMdB0ZMGk",
        "outputId": "b076d550-3990-4c8d-cdd1-d06d5525450a"
      },
      "source": [
        "df = df[~((df < (Q1-1.5 * IQR)) |(df > (Q3 + 1.5 * IQR))).any(axis=1)]        # Elimina alrededor del 10% de los datos, 5% en cada extremo.\n",
        "df.shape"
      ],
      "execution_count": null,
      "outputs": [
        {
          "output_type": "execute_result",
          "data": {
            "text/plain": [
              "(30291, 15)"
            ]
          },
          "metadata": {},
          "execution_count": 269
        }
      ]
    },
    {
      "cell_type": "markdown",
      "metadata": {
        "id": "-FKcdsghfn5G"
      },
      "source": [
        "Estos outliers que se eliminaron se pueden observar en los gráficos de caja, donde el primero muestra al set original, y los segundos al nuevo set."
      ]
    },
    {
      "cell_type": "code",
      "metadata": {
        "colab": {
          "base_uri": "https://localhost:8080/"
        },
        "id": "F5t_zOPbZZY8",
        "outputId": "283151fa-66d3-46ba-9732-d75640155440"
      },
      "source": [
        "sns.boxplot(x=df['capital-gain'])"
      ],
      "execution_count": null,
      "outputs": [
        {
          "output_type": "execute_result",
          "data": {
            "text/plain": [
              "<matplotlib.axes._subplots.AxesSubplot at 0x7fbbd6307f90>"
            ]
          },
          "metadata": {},
          "execution_count": 270
        },
        {
          "output_type": "display_data",
          "data": {
            "image/png": "[encoded data removed]",
            "text/plain": [
              "<Figure size 432x288 with 1 Axes>"
            ]
          },
          "metadata": {}
        }
      ]
    },
    {
      "cell_type": "code",
      "metadata": {
        "colab": {
          "base_uri": "https://localhost:8080/"
        },
        "id": "9JDq1b2pZqgu",
        "outputId": "14819fed-4ccd-4543-df53-1b2c66a0a624"
      },
      "source": [
        "sns.boxplot(x=df['capital-gain'])"
      ],
      "execution_count": null,
      "outputs": [
        {
          "output_type": "execute_result",
          "data": {
            "text/plain": [
              "<matplotlib.axes._subplots.AxesSubplot at 0x7fbbe12c5490>"
            ]
          },
          "metadata": {},
          "execution_count": 271
        },
        {
          "output_type": "display_data",
          "data": {
            "image/png": "[encoded data removed]",
            "text/plain": [
              "<Figure size 432x288 with 1 Axes>"
            ]
          },
          "metadata": {}
        }
      ]
    },
    {
      "cell_type": "markdown",
      "metadata": {
        "id": "8oy2Cw9Hf7fX"
      },
      "source": [
        "###OrdinalEncoder: Codificacion de categorical features\n",
        "Utilizar un método de codificación para las características no numéricas permite que la red sea capaz de entender qué es lo que sucede y tomar desiciones a partir de ello"
      ]
    },
    {
      "cell_type": "markdown",
      "metadata": {
        "id": "eZ66ZiLNnnEh"
      },
      "source": [
        "Ahora, para codificar los features en los que es necesario hacerlo, los cuales son\n",
        "\n",
        "*   workclass\n",
        "*   education\n",
        "*   marital-status\n",
        "*   ocupation\n",
        "*   race\n",
        "*   sex\n",
        "*   hours-per-week\n",
        "*   native-country\n",
        "*   income\n"
      ]
    },
    {
      "cell_type": "code",
      "metadata": {
        "colab": {
          "base_uri": "https://localhost:8080/",
          "height": 287
        },
        "id": "OfvFG3L4-lfz",
        "outputId": "3c8a77b7-7902-4b90-8770-480efa1a9b52"
      },
      "source": [
        "df.head()"
      ],
      "execution_count": null,
      "outputs": [
        {
          "output_type": "execute_result",
          "data": {
            "text/html": [
              "<div>\n",
              "<style scoped>\n",
              "    .dataframe tbody tr th:only-of-type {\n",
              "        vertical-align: middle;\n",
              "    }\n",
              "\n",
              "    .dataframe tbody tr th {\n",
              "        vertical-align: top;\n",
              "    }\n",
              "\n",
              "    .dataframe thead th {\n",
              "        text-align: right;\n",
              "    }\n",
              "</style>\n",
              "<table border=\"1\" class=\"dataframe\">\n",
              "  <thead>\n",
              "    <tr style=\"text-align: right;\">\n",
              "      <th></th>\n",
              "      <th>Age</th>\n",
              "      <th>workclass</th>\n",
              "      <th>fnlwgt</th>\n",
              "      <th>education</th>\n",
              "      <th>education-num</th>\n",
              "      <th>marital-status</th>\n",
              "      <th>ocupation</th>\n",
              "      <th>relationship</th>\n",
              "      <th>race</th>\n",
              "      <th>sex</th>\n",
              "      <th>capital-gain</th>\n",
              "      <th>capital-loss</th>\n",
              "      <th>hours-per-week</th>\n",
              "      <th>native-country</th>\n",
              "      <th>income</th>\n",
              "    </tr>\n",
              "  </thead>\n",
              "  <tbody>\n",
              "    <tr>\n",
              "      <th>0</th>\n",
              "      <td>39</td>\n",
              "      <td>State-gov</td>\n",
              "      <td>77516</td>\n",
              "      <td>Bachelors</td>\n",
              "      <td>13</td>\n",
              "      <td>Never-married</td>\n",
              "      <td>Adm-clerical</td>\n",
              "      <td>Not-in-family</td>\n",
              "      <td>White</td>\n",
              "      <td>Male</td>\n",
              "      <td>2174</td>\n",
              "      <td>0</td>\n",
              "      <td>40</td>\n",
              "      <td>United-States</td>\n",
              "      <td>&lt;=50K</td>\n",
              "    </tr>\n",
              "    <tr>\n",
              "      <th>1</th>\n",
              "      <td>50</td>\n",
              "      <td>Self-emp-not-inc</td>\n",
              "      <td>83311</td>\n",
              "      <td>Bachelors</td>\n",
              "      <td>13</td>\n",
              "      <td>Married-civ-spouse</td>\n",
              "      <td>Exec-managerial</td>\n",
              "      <td>Husband</td>\n",
              "      <td>White</td>\n",
              "      <td>Male</td>\n",
              "      <td>0</td>\n",
              "      <td>0</td>\n",
              "      <td>13</td>\n",
              "      <td>United-States</td>\n",
              "      <td>&lt;=50K</td>\n",
              "    </tr>\n",
              "    <tr>\n",
              "      <th>2</th>\n",
              "      <td>38</td>\n",
              "      <td>Private</td>\n",
              "      <td>215646</td>\n",
              "      <td>HS-grad</td>\n",
              "      <td>9</td>\n",
              "      <td>Divorced</td>\n",
              "      <td>Handlers-cleaners</td>\n",
              "      <td>Not-in-family</td>\n",
              "      <td>White</td>\n",
              "      <td>Male</td>\n",
              "      <td>0</td>\n",
              "      <td>0</td>\n",
              "      <td>40</td>\n",
              "      <td>United-States</td>\n",
              "      <td>&lt;=50K</td>\n",
              "    </tr>\n",
              "    <tr>\n",
              "      <th>3</th>\n",
              "      <td>53</td>\n",
              "      <td>Private</td>\n",
              "      <td>234721</td>\n",
              "      <td>11th</td>\n",
              "      <td>7</td>\n",
              "      <td>Married-civ-spouse</td>\n",
              "      <td>Handlers-cleaners</td>\n",
              "      <td>Husband</td>\n",
              "      <td>Black</td>\n",
              "      <td>Male</td>\n",
              "      <td>0</td>\n",
              "      <td>0</td>\n",
              "      <td>40</td>\n",
              "      <td>United-States</td>\n",
              "      <td>&lt;=50K</td>\n",
              "    </tr>\n",
              "    <tr>\n",
              "      <th>4</th>\n",
              "      <td>28</td>\n",
              "      <td>Private</td>\n",
              "      <td>338409</td>\n",
              "      <td>Bachelors</td>\n",
              "      <td>13</td>\n",
              "      <td>Married-civ-spouse</td>\n",
              "      <td>Prof-specialty</td>\n",
              "      <td>Wife</td>\n",
              "      <td>Black</td>\n",
              "      <td>Female</td>\n",
              "      <td>0</td>\n",
              "      <td>0</td>\n",
              "      <td>40</td>\n",
              "      <td>Cuba</td>\n",
              "      <td>&lt;=50K</td>\n",
              "    </tr>\n",
              "  </tbody>\n",
              "</table>\n",
              "</div>"
            ],
            "text/plain": [
              "   Age          workclass  fnlwgt  ... hours-per-week  native-country  income\n",
              "0   39          State-gov   77516  ...             40   United-States   <=50K\n",
              "1   50   Self-emp-not-inc   83311  ...             13   United-States   <=50K\n",
              "2   38            Private  215646  ...             40   United-States   <=50K\n",
              "3   53            Private  234721  ...             40   United-States   <=50K\n",
              "4   28            Private  338409  ...             40            Cuba   <=50K\n",
              "\n",
              "[5 rows x 15 columns]"
            ]
          },
          "metadata": {},
          "execution_count": 272
        }
      ]
    },
    {
      "cell_type": "code",
      "metadata": {
        "colab": {
          "base_uri": "https://localhost:8080/"
        },
        "id": "4ADGZ1x69Qin",
        "outputId": "8dfe3e78-4637-4234-977b-332893d71d6c"
      },
      "source": [
        "df.shape"
      ],
      "execution_count": null,
      "outputs": [
        {
          "output_type": "execute_result",
          "data": {
            "text/plain": [
              "(30291, 15)"
            ]
          },
          "metadata": {},
          "execution_count": 273
        }
      ]
    },
    {
      "cell_type": "markdown",
      "metadata": {
        "id": "VGMDOiMH_khl"
      },
      "source": [
        "Algunas características de los datos se pueden observar a continiación:"
      ]
    },
    {
      "cell_type": "markdown",
      "metadata": {
        "id": "0gdFnDgv_2aR"
      },
      "source": [
        "#####Workclass"
      ]
    },
    {
      "cell_type": "code",
      "metadata": {
        "colab": {
          "base_uri": "https://localhost:8080/"
        },
        "id": "CkK9WSvf_8hG",
        "outputId": "43d7a087-a2db-4e0c-f4d8-e0ed3f55a4c0"
      },
      "source": [
        "df['workclass'].value_counts()"
      ],
      "execution_count": null,
      "outputs": [
        {
          "output_type": "execute_result",
          "data": {
            "text/plain": [
              " Private             21256\n",
              " Self-emp-not-inc     2304\n",
              " Local-gov            1936\n",
              " ?                    1759\n",
              " State-gov            1216\n",
              " Self-emp-inc          916\n",
              " Federal-gov           883\n",
              " Without-pay            14\n",
              " Never-worked            7\n",
              "Name: workclass, dtype: int64"
            ]
          },
          "metadata": {},
          "execution_count": 274
        }
      ]
    },
    {
      "cell_type": "markdown",
      "metadata": {
        "id": "rz8O5c--ASMw"
      },
      "source": [
        "#####Education"
      ]
    },
    {
      "cell_type": "code",
      "metadata": {
        "colab": {
          "base_uri": "https://localhost:8080/"
        },
        "id": "XyJuinjTANAy",
        "outputId": "ca459236-d939-403f-cadd-f79c33e752ff"
      },
      "source": [
        "df['education'].value_counts()"
      ],
      "execution_count": null,
      "outputs": [
        {
          "output_type": "execute_result",
          "data": {
            "text/plain": [
              " HS-grad         9994\n",
              " Some-college    6914\n",
              " Bachelors       4797\n",
              " Masters         1460\n",
              " Assoc-voc       1307\n",
              " 11th            1138\n",
              " Assoc-acdm       995\n",
              " 10th             900\n",
              " 7th-8th          622\n",
              " 9th              504\n",
              " 12th             421\n",
              " Prof-school      394\n",
              " 5th-6th          321\n",
              " Doctorate        315\n",
              " 1st-4th          162\n",
              " Preschool         47\n",
              "Name: education, dtype: int64"
            ]
          },
          "metadata": {},
          "execution_count": 275
        }
      ]
    },
    {
      "cell_type": "markdown",
      "metadata": {
        "id": "3wq8bkqpAbAv"
      },
      "source": [
        "#####Marital Status"
      ]
    },
    {
      "cell_type": "code",
      "metadata": {
        "colab": {
          "base_uri": "https://localhost:8080/"
        },
        "id": "kVabD6oHAMyy",
        "outputId": "33c95aa9-1fea-402c-8dd5-2ae3435f1e37"
      },
      "source": [
        "df['marital-status'].value_counts()"
      ],
      "execution_count": null,
      "outputs": [
        {
          "output_type": "execute_result",
          "data": {
            "text/plain": [
              " Married-civ-spouse       13487\n",
              " Never-married            10260\n",
              " Divorced                  4201\n",
              " Separated                  983\n",
              " Widowed                    940\n",
              " Married-spouse-absent      397\n",
              " Married-AF-spouse           23\n",
              "Name: marital-status, dtype: int64"
            ]
          },
          "metadata": {},
          "execution_count": 276
        }
      ]
    },
    {
      "cell_type": "markdown",
      "metadata": {
        "id": "v6nmrgSlApBl"
      },
      "source": [
        "#####Ocupation"
      ]
    },
    {
      "cell_type": "code",
      "metadata": {
        "colab": {
          "base_uri": "https://localhost:8080/"
        },
        "id": "QcA9y19xAMrz",
        "outputId": "dc709a80-aa4f-463f-a82a-08f7bc494675"
      },
      "source": [
        "df['ocupation'].value_counts()"
      ],
      "execution_count": null,
      "outputs": [
        {
          "output_type": "execute_result",
          "data": {
            "text/plain": [
              " Craft-repair         3855\n",
              " Adm-clerical         3613\n",
              " Prof-specialty       3611\n",
              " Exec-managerial      3536\n",
              " Sales                3359\n",
              " Other-service        3212\n",
              " Machine-op-inspct    1928\n",
              " ?                    1766\n",
              " Transport-moving     1508\n",
              " Handlers-cleaners    1333\n",
              " Farming-fishing       947\n",
              " Tech-support          859\n",
              " Protective-serv       612\n",
              " Priv-house-serv       144\n",
              " Armed-Forces            8\n",
              "Name: ocupation, dtype: int64"
            ]
          },
          "metadata": {},
          "execution_count": 277
        }
      ]
    },
    {
      "cell_type": "markdown",
      "metadata": {
        "id": "KRMS5gmOAxE2"
      },
      "source": [
        "#####Relationship"
      ]
    },
    {
      "cell_type": "code",
      "metadata": {
        "colab": {
          "base_uri": "https://localhost:8080/"
        },
        "id": "kn_ONLQHAMj0",
        "outputId": "51cfa194-706b-4782-c0ab-45c68d805080"
      },
      "source": [
        "df['relationship'].value_counts()"
      ],
      "execution_count": null,
      "outputs": [
        {
          "output_type": "execute_result",
          "data": {
            "text/plain": [
              " Husband           11866\n",
              " Not-in-family      7807\n",
              " Own-child          4935\n",
              " Unmarried          3321\n",
              " Wife               1413\n",
              " Other-relative      949\n",
              "Name: relationship, dtype: int64"
            ]
          },
          "metadata": {},
          "execution_count": 278
        }
      ]
    },
    {
      "cell_type": "markdown",
      "metadata": {
        "id": "5JAJDU7CA6OL"
      },
      "source": [
        "#####Race"
      ]
    },
    {
      "cell_type": "code",
      "metadata": {
        "colab": {
          "base_uri": "https://localhost:8080/"
        },
        "id": "yhEXePmuAMbg",
        "outputId": "70873e92-552c-4a3f-e5d1-21b0146138bf"
      },
      "source": [
        "df['race'].value_counts()"
      ],
      "execution_count": null,
      "outputs": [
        {
          "output_type": "execute_result",
          "data": {
            "text/plain": [
              " White                 25806\n",
              " Black                  2970\n",
              " Asian-Pac-Islander      958\n",
              " Amer-Indian-Eskimo      298\n",
              " Other                   259\n",
              "Name: race, dtype: int64"
            ]
          },
          "metadata": {},
          "execution_count": 279
        }
      ]
    },
    {
      "cell_type": "markdown",
      "metadata": {
        "id": "Dk8OVKhdBArG"
      },
      "source": [
        "#####Sex"
      ]
    },
    {
      "cell_type": "code",
      "metadata": {
        "colab": {
          "base_uri": "https://localhost:8080/"
        },
        "id": "zqrev7d4AMRg",
        "outputId": "57628f84-c300-4903-e65b-fb73318466aa"
      },
      "source": [
        "df['sex'].value_counts()"
      ],
      "execution_count": null,
      "outputs": [
        {
          "output_type": "execute_result",
          "data": {
            "text/plain": [
              " Male      20034\n",
              " Female    10257\n",
              "Name: sex, dtype: int64"
            ]
          },
          "metadata": {},
          "execution_count": 280
        }
      ]
    },
    {
      "cell_type": "markdown",
      "metadata": {
        "id": "qK2cwR5kBIEa"
      },
      "source": [
        "#####Native Country"
      ]
    },
    {
      "cell_type": "code",
      "metadata": {
        "colab": {
          "base_uri": "https://localhost:8080/"
        },
        "id": "fq6_3tDkAMGK",
        "outputId": "af64384b-0e40-4de9-b679-82ca1af13037"
      },
      "source": [
        "df['native-country'].value_counts()"
      ],
      "execution_count": null,
      "outputs": [
        {
          "output_type": "execute_result",
          "data": {
            "text/plain": [
              " United-States                 27111\n",
              " Mexico                          628\n",
              " ?                               529\n",
              " Philippines                     184\n",
              " Germany                         126\n",
              " Puerto-Rico                     110\n",
              " Canada                          109\n",
              " El-Salvador                     102\n",
              " Cuba                             91\n",
              " India                            89\n",
              " England                          83\n",
              " Jamaica                          79\n",
              " Italy                            71\n",
              " South                            69\n",
              " Dominican-Republic               68\n",
              " China                            67\n",
              " Vietnam                          62\n",
              " Guatemala                        61\n",
              " Poland                           58\n",
              " Japan                            57\n",
              " Columbia                         57\n",
              " Taiwan                           46\n",
              " Haiti                            42\n",
              " Portugal                         37\n",
              " Iran                             35\n",
              " Nicaragua                        32\n",
              " Peru                             30\n",
              " France                           29\n",
              " Ecuador                          28\n",
              " Greece                           24\n",
              " Ireland                          23\n",
              " Hong                             19\n",
              " Thailand                         18\n",
              " Laos                             18\n",
              " Trinadad&Tobago                  17\n",
              " Cambodia                         16\n",
              " Yugoslavia                       16\n",
              " Outlying-US(Guam-USVI-etc)       14\n",
              " Honduras                         12\n",
              " Scotland                         12\n",
              " Hungary                          12\n",
              "Name: native-country, dtype: int64"
            ]
          },
          "metadata": {},
          "execution_count": 281
        }
      ]
    },
    {
      "cell_type": "markdown",
      "metadata": {
        "id": "u0nGINJLJXrm"
      },
      "source": [
        "####Income"
      ]
    },
    {
      "cell_type": "code",
      "metadata": {
        "colab": {
          "base_uri": "https://localhost:8080/"
        },
        "id": "Rqb6ejbdJaPs",
        "outputId": "a3b3a78b-d9e4-4c45-9840-c82ecc7f9df1"
      },
      "source": [
        "df['income'].value_counts()"
      ],
      "execution_count": null,
      "outputs": [
        {
          "output_type": "execute_result",
          "data": {
            "text/plain": [
              " <=50K    23928\n",
              " >50K      6363\n",
              "Name: income, dtype: int64"
            ]
          },
          "metadata": {},
          "execution_count": 282
        }
      ]
    },
    {
      "cell_type": "markdown",
      "metadata": {
        "id": "jCJ1-X64_7gX"
      },
      "source": [
        "####Codificación"
      ]
    },
    {
      "cell_type": "code",
      "metadata": {
        "id": "ITXqwhz5oYYT"
      },
      "source": [
        "ordinal = ce.OrdinalEncoder(cols=['workclass','education','marital-status',     # Indica que columnas deben ser codificadas\n",
        "                                  'ocupation','relationship', 'race', 'sex',\n",
        "                                  'native-country', 'income'])\n",
        "df_encoded = ordinal.fit_transform(df)                                          # Codifica"
      ],
      "execution_count": null,
      "outputs": []
    },
    {
      "cell_type": "code",
      "metadata": {
        "colab": {
          "base_uri": "https://localhost:8080/"
        },
        "id": "lQ14fLjUrGQL",
        "outputId": "228111df-1faf-403b-b7d7-a1d62041430f"
      },
      "source": [
        "df_encoded.head()                                                               # Muestra codificación de los datos"
      ],
      "execution_count": null,
      "outputs": [
        {
          "output_type": "execute_result",
          "data": {
            "text/html": [
              "<div>\n",
              "<style scoped>\n",
              "    .dataframe tbody tr th:only-of-type {\n",
              "        vertical-align: middle;\n",
              "    }\n",
              "\n",
              "    .dataframe tbody tr th {\n",
              "        vertical-align: top;\n",
              "    }\n",
              "\n",
              "    .dataframe thead th {\n",
              "        text-align: right;\n",
              "    }\n",
              "</style>\n",
              "<table border=\"1\" class=\"dataframe\">\n",
              "  <thead>\n",
              "    <tr style=\"text-align: right;\">\n",
              "      <th></th>\n",
              "      <th>Age</th>\n",
              "      <th>workclass</th>\n",
              "      <th>fnlwgt</th>\n",
              "      <th>education</th>\n",
              "      <th>education-num</th>\n",
              "      <th>marital-status</th>\n",
              "      <th>ocupation</th>\n",
              "      <th>relationship</th>\n",
              "      <th>race</th>\n",
              "      <th>sex</th>\n",
              "      <th>capital-gain</th>\n",
              "      <th>capital-loss</th>\n",
              "      <th>hours-per-week</th>\n",
              "      <th>native-country</th>\n",
              "      <th>income</th>\n",
              "    </tr>\n",
              "  </thead>\n",
              "  <tbody>\n",
              "    <tr>\n",
              "      <th>0</th>\n",
              "      <td>39</td>\n",
              "      <td>1</td>\n",
              "      <td>77516</td>\n",
              "      <td>1</td>\n",
              "      <td>13</td>\n",
              "      <td>1</td>\n",
              "      <td>1</td>\n",
              "      <td>1</td>\n",
              "      <td>1</td>\n",
              "      <td>1</td>\n",
              "      <td>2174</td>\n",
              "      <td>0</td>\n",
              "      <td>40</td>\n",
              "      <td>1</td>\n",
              "      <td>1</td>\n",
              "    </tr>\n",
              "    <tr>\n",
              "      <th>1</th>\n",
              "      <td>50</td>\n",
              "      <td>2</td>\n",
              "      <td>83311</td>\n",
              "      <td>1</td>\n",
              "      <td>13</td>\n",
              "      <td>2</td>\n",
              "      <td>2</td>\n",
              "      <td>2</td>\n",
              "      <td>1</td>\n",
              "      <td>1</td>\n",
              "      <td>0</td>\n",
              "      <td>0</td>\n",
              "      <td>13</td>\n",
              "      <td>1</td>\n",
              "      <td>1</td>\n",
              "    </tr>\n",
              "    <tr>\n",
              "      <th>2</th>\n",
              "      <td>38</td>\n",
              "      <td>3</td>\n",
              "      <td>215646</td>\n",
              "      <td>2</td>\n",
              "      <td>9</td>\n",
              "      <td>3</td>\n",
              "      <td>3</td>\n",
              "      <td>1</td>\n",
              "      <td>1</td>\n",
              "      <td>1</td>\n",
              "      <td>0</td>\n",
              "      <td>0</td>\n",
              "      <td>40</td>\n",
              "      <td>1</td>\n",
              "      <td>1</td>\n",
              "    </tr>\n",
              "    <tr>\n",
              "      <th>3</th>\n",
              "      <td>53</td>\n",
              "      <td>3</td>\n",
              "      <td>234721</td>\n",
              "      <td>3</td>\n",
              "      <td>7</td>\n",
              "      <td>2</td>\n",
              "      <td>3</td>\n",
              "      <td>2</td>\n",
              "      <td>2</td>\n",
              "      <td>1</td>\n",
              "      <td>0</td>\n",
              "      <td>0</td>\n",
              "      <td>40</td>\n",
              "      <td>1</td>\n",
              "      <td>1</td>\n",
              "    </tr>\n",
              "    <tr>\n",
              "      <th>4</th>\n",
              "      <td>28</td>\n",
              "      <td>3</td>\n",
              "      <td>338409</td>\n",
              "      <td>1</td>\n",
              "      <td>13</td>\n",
              "      <td>2</td>\n",
              "      <td>4</td>\n",
              "      <td>3</td>\n",
              "      <td>2</td>\n",
              "      <td>2</td>\n",
              "      <td>0</td>\n",
              "      <td>0</td>\n",
              "      <td>40</td>\n",
              "      <td>2</td>\n",
              "      <td>1</td>\n",
              "    </tr>\n",
              "  </tbody>\n",
              "</table>\n",
              "</div>"
            ],
            "text/plain": [
              "   Age  workclass  fnlwgt  ...  hours-per-week  native-country  income\n",
              "0   39          1   77516  ...              40               1       1\n",
              "1   50          2   83311  ...              13               1       1\n",
              "2   38          3  215646  ...              40               1       1\n",
              "3   53          3  234721  ...              40               1       1\n",
              "4   28          3  338409  ...              40               2       1\n",
              "\n",
              "[5 rows x 15 columns]"
            ]
          },
          "metadata": {},
          "execution_count": 284
        }
      ]
    },
    {
      "cell_type": "code",
      "metadata": {
        "colab": {
          "base_uri": "https://localhost:8080/"
        },
        "id": "QpeJ8158Lov2",
        "outputId": "85255a6f-e36d-48d0-ab0b-ceaed423498e"
      },
      "source": [
        "df_encoded.dtypes                                                               # Verifica que todos los datos sean de tipo numérico"
      ],
      "execution_count": null,
      "outputs": [
        {
          "output_type": "execute_result",
          "data": {
            "text/plain": [
              "Age               int64\n",
              "workclass         int64\n",
              "fnlwgt            int64\n",
              "education         int64\n",
              "education-num     int64\n",
              "marital-status    int64\n",
              "ocupation         int64\n",
              "relationship      int64\n",
              "race              int64\n",
              "sex               int64\n",
              "capital-gain      int64\n",
              "capital-loss      int64\n",
              "hours-per-week    int64\n",
              "native-country    int64\n",
              "income            int64\n",
              "dtype: object"
            ]
          },
          "metadata": {},
          "execution_count": 285
        }
      ]
    },
    {
      "cell_type": "markdown",
      "metadata": {
        "id": "_UckduoIXU54"
      },
      "source": [
        "###Split de datos\n",
        "Una vez separados los datos se puede separar en porciones de validación y aprendizaje para los casos donde se requiera, comunmente se utiliza la proporción 80/20, donde el 80% de los datos del dataset se utiliza para entrenar y el 20% para probar la red. Para esto, se separarán los datos aleatoriamente haciendo uso de la herramienta que SciKit learn nos provee"
      ]
    },
    {
      "cell_type": "code",
      "metadata": {
        "id": "hUeC8PXJL6UF"
      },
      "source": [
        "df_train, df_test = train_test_split(df_encoded, test_size = 0.20,\n",
        "                                     random_state = 42)"
      ],
      "execution_count": null,
      "outputs": []
    },
    {
      "cell_type": "code",
      "metadata": {
        "colab": {
          "base_uri": "https://localhost:8080/"
        },
        "id": "iDNotaDLNZ9k",
        "outputId": "9a751769-57d4-4330-80de-b9dcc70b8660"
      },
      "source": [
        "df_train.shape"
      ],
      "execution_count": null,
      "outputs": [
        {
          "output_type": "execute_result",
          "data": {
            "text/plain": [
              "(24232, 15)"
            ]
          },
          "metadata": {},
          "execution_count": 287
        }
      ]
    },
    {
      "cell_type": "code",
      "metadata": {
        "colab": {
          "base_uri": "https://localhost:8080/"
        },
        "id": "H_WL3eu0Nd5M",
        "outputId": "b0ea4959-d722-42dc-cedc-59035698e90e"
      },
      "source": [
        "df_test.shape"
      ],
      "execution_count": null,
      "outputs": [
        {
          "output_type": "execute_result",
          "data": {
            "text/plain": [
              "(6059, 15)"
            ]
          },
          "metadata": {},
          "execution_count": 288
        }
      ]
    },
    {
      "cell_type": "markdown",
      "metadata": {
        "id": "yAxYTy7GNvXR"
      },
      "source": [
        "###Separación de Labels y Features\n",
        "Mediante la manipulacion de los dataframe de pandas, se establecen pares ordenados, siendo X los features y Y los labels para entrenamiento y validación de la red y estos al estar ya codificados, pueden transformarse en un numpy array para ser introducidos a las redes"
      ]
    },
    {
      "cell_type": "markdown",
      "metadata": {
        "id": "InUJM8fOPRNi"
      },
      "source": [
        "####Datos de entrenamiento"
      ]
    },
    {
      "cell_type": "code",
      "metadata": {
        "id": "-nVBSs5pNzhA"
      },
      "source": [
        "x_train = df_train.copy()\n",
        "y_train = x_train.pop('income')                                                 # Separa income, el label o resultado, del dataframe de pandas por lo que se obtiene el conjunto X y Y"
      ],
      "execution_count": null,
      "outputs": []
    },
    {
      "cell_type": "code",
      "metadata": {
        "colab": {
          "base_uri": "https://localhost:8080/"
        },
        "id": "j6Pg6OqYOX6U",
        "outputId": "d47e0d6d-08dc-450e-98d0-5f2d760e5f56"
      },
      "source": [
        "x_train.head()"
      ],
      "execution_count": null,
      "outputs": [
        {
          "output_type": "execute_result",
          "data": {
            "text/html": [
              "<div>\n",
              "<style scoped>\n",
              "    .dataframe tbody tr th:only-of-type {\n",
              "        vertical-align: middle;\n",
              "    }\n",
              "\n",
              "    .dataframe tbody tr th {\n",
              "        vertical-align: top;\n",
              "    }\n",
              "\n",
              "    .dataframe thead th {\n",
              "        text-align: right;\n",
              "    }\n",
              "</style>\n",
              "<table border=\"1\" class=\"dataframe\">\n",
              "  <thead>\n",
              "    <tr style=\"text-align: right;\">\n",
              "      <th></th>\n",
              "      <th>Age</th>\n",
              "      <th>workclass</th>\n",
              "      <th>fnlwgt</th>\n",
              "      <th>education</th>\n",
              "      <th>education-num</th>\n",
              "      <th>marital-status</th>\n",
              "      <th>ocupation</th>\n",
              "      <th>relationship</th>\n",
              "      <th>race</th>\n",
              "      <th>sex</th>\n",
              "      <th>capital-gain</th>\n",
              "      <th>capital-loss</th>\n",
              "      <th>hours-per-week</th>\n",
              "      <th>native-country</th>\n",
              "    </tr>\n",
              "  </thead>\n",
              "  <tbody>\n",
              "    <tr>\n",
              "      <th>4373</th>\n",
              "      <td>35</td>\n",
              "      <td>3</td>\n",
              "      <td>111128</td>\n",
              "      <td>12</td>\n",
              "      <td>6</td>\n",
              "      <td>1</td>\n",
              "      <td>1</td>\n",
              "      <td>4</td>\n",
              "      <td>1</td>\n",
              "      <td>1</td>\n",
              "      <td>0</td>\n",
              "      <td>0</td>\n",
              "      <td>40</td>\n",
              "      <td>1</td>\n",
              "    </tr>\n",
              "    <tr>\n",
              "      <th>8119</th>\n",
              "      <td>34</td>\n",
              "      <td>2</td>\n",
              "      <td>312197</td>\n",
              "      <td>2</td>\n",
              "      <td>9</td>\n",
              "      <td>2</td>\n",
              "      <td>8</td>\n",
              "      <td>2</td>\n",
              "      <td>1</td>\n",
              "      <td>1</td>\n",
              "      <td>0</td>\n",
              "      <td>0</td>\n",
              "      <td>75</td>\n",
              "      <td>6</td>\n",
              "    </tr>\n",
              "    <tr>\n",
              "      <th>19198</th>\n",
              "      <td>40</td>\n",
              "      <td>3</td>\n",
              "      <td>145160</td>\n",
              "      <td>10</td>\n",
              "      <td>16</td>\n",
              "      <td>2</td>\n",
              "      <td>4</td>\n",
              "      <td>2</td>\n",
              "      <td>1</td>\n",
              "      <td>1</td>\n",
              "      <td>0</td>\n",
              "      <td>0</td>\n",
              "      <td>40</td>\n",
              "      <td>1</td>\n",
              "    </tr>\n",
              "    <tr>\n",
              "      <th>11225</th>\n",
              "      <td>26</td>\n",
              "      <td>3</td>\n",
              "      <td>158810</td>\n",
              "      <td>1</td>\n",
              "      <td>13</td>\n",
              "      <td>1</td>\n",
              "      <td>4</td>\n",
              "      <td>1</td>\n",
              "      <td>1</td>\n",
              "      <td>1</td>\n",
              "      <td>0</td>\n",
              "      <td>0</td>\n",
              "      <td>70</td>\n",
              "      <td>1</td>\n",
              "    </tr>\n",
              "    <tr>\n",
              "      <th>27200</th>\n",
              "      <td>39</td>\n",
              "      <td>3</td>\n",
              "      <td>53926</td>\n",
              "      <td>1</td>\n",
              "      <td>13</td>\n",
              "      <td>2</td>\n",
              "      <td>4</td>\n",
              "      <td>2</td>\n",
              "      <td>1</td>\n",
              "      <td>1</td>\n",
              "      <td>0</td>\n",
              "      <td>0</td>\n",
              "      <td>40</td>\n",
              "      <td>1</td>\n",
              "    </tr>\n",
              "  </tbody>\n",
              "</table>\n",
              "</div>"
            ],
            "text/plain": [
              "       Age  workclass  fnlwgt  ...  capital-loss  hours-per-week  native-country\n",
              "4373    35          3  111128  ...             0              40               1\n",
              "8119    34          2  312197  ...             0              75               6\n",
              "19198   40          3  145160  ...             0              40               1\n",
              "11225   26          3  158810  ...             0              70               1\n",
              "27200   39          3   53926  ...             0              40               1\n",
              "\n",
              "[5 rows x 14 columns]"
            ]
          },
          "metadata": {},
          "execution_count": 290
        }
      ]
    },
    {
      "cell_type": "code",
      "metadata": {
        "colab": {
          "base_uri": "https://localhost:8080/"
        },
        "id": "NxEqz7ejOd5E",
        "outputId": "c3f93a98-6f21-4e45-9d07-ac9b3e6dfa85"
      },
      "source": [
        "y_train.head()"
      ],
      "execution_count": null,
      "outputs": [
        {
          "output_type": "execute_result",
          "data": {
            "text/plain": [
              "4373     1\n",
              "8119     2\n",
              "19198    2\n",
              "11225    1\n",
              "27200    1\n",
              "Name: income, dtype: int64"
            ]
          },
          "metadata": {},
          "execution_count": 291
        }
      ]
    },
    {
      "cell_type": "code",
      "metadata": {
        "id": "cAf9PMvgPEl3"
      },
      "source": [
        "x_train_np = x_train.to_numpy()\n",
        "y_train_np = y_train.to_numpy()"
      ],
      "execution_count": null,
      "outputs": []
    },
    {
      "cell_type": "markdown",
      "metadata": {
        "id": "QuHFCSa5PXoT"
      },
      "source": [
        "####Datos de validación o testeo"
      ]
    },
    {
      "cell_type": "code",
      "metadata": {
        "id": "dbuH281UPbVS"
      },
      "source": [
        "x_test = df_test.copy()\n",
        "y_test = x_test.pop('income')                                                   # Separa income, el label o resultado, del dataframe de pandas por lo que se obtiene el conjunto X y Y"
      ],
      "execution_count": null,
      "outputs": []
    },
    {
      "cell_type": "code",
      "metadata": {
        "colab": {
          "base_uri": "https://localhost:8080/"
        },
        "id": "u7xRVdKUPk6S",
        "outputId": "930f895f-4c65-4edf-c4e1-5db6502215b9"
      },
      "source": [
        "x_test.head()"
      ],
      "execution_count": null,
      "outputs": [
        {
          "output_type": "execute_result",
          "data": {
            "text/html": [
              "<div>\n",
              "<style scoped>\n",
              "    .dataframe tbody tr th:only-of-type {\n",
              "        vertical-align: middle;\n",
              "    }\n",
              "\n",
              "    .dataframe tbody tr th {\n",
              "        vertical-align: top;\n",
              "    }\n",
              "\n",
              "    .dataframe thead th {\n",
              "        text-align: right;\n",
              "    }\n",
              "</style>\n",
              "<table border=\"1\" class=\"dataframe\">\n",
              "  <thead>\n",
              "    <tr style=\"text-align: right;\">\n",
              "      <th></th>\n",
              "      <th>Age</th>\n",
              "      <th>workclass</th>\n",
              "      <th>fnlwgt</th>\n",
              "      <th>education</th>\n",
              "      <th>education-num</th>\n",
              "      <th>marital-status</th>\n",
              "      <th>ocupation</th>\n",
              "      <th>relationship</th>\n",
              "      <th>race</th>\n",
              "      <th>sex</th>\n",
              "      <th>capital-gain</th>\n",
              "      <th>capital-loss</th>\n",
              "      <th>hours-per-week</th>\n",
              "      <th>native-country</th>\n",
              "    </tr>\n",
              "  </thead>\n",
              "  <tbody>\n",
              "    <tr>\n",
              "      <th>15256</th>\n",
              "      <td>74</td>\n",
              "      <td>6</td>\n",
              "      <td>29887</td>\n",
              "      <td>2</td>\n",
              "      <td>9</td>\n",
              "      <td>7</td>\n",
              "      <td>12</td>\n",
              "      <td>1</td>\n",
              "      <td>1</td>\n",
              "      <td>2</td>\n",
              "      <td>0</td>\n",
              "      <td>0</td>\n",
              "      <td>10</td>\n",
              "      <td>1</td>\n",
              "    </tr>\n",
              "    <tr>\n",
              "      <th>17396</th>\n",
              "      <td>58</td>\n",
              "      <td>3</td>\n",
              "      <td>371064</td>\n",
              "      <td>2</td>\n",
              "      <td>9</td>\n",
              "      <td>2</td>\n",
              "      <td>9</td>\n",
              "      <td>2</td>\n",
              "      <td>1</td>\n",
              "      <td>1</td>\n",
              "      <td>0</td>\n",
              "      <td>0</td>\n",
              "      <td>20</td>\n",
              "      <td>1</td>\n",
              "    </tr>\n",
              "    <tr>\n",
              "      <th>239</th>\n",
              "      <td>23</td>\n",
              "      <td>3</td>\n",
              "      <td>115458</td>\n",
              "      <td>2</td>\n",
              "      <td>9</td>\n",
              "      <td>1</td>\n",
              "      <td>8</td>\n",
              "      <td>4</td>\n",
              "      <td>1</td>\n",
              "      <td>1</td>\n",
              "      <td>0</td>\n",
              "      <td>0</td>\n",
              "      <td>40</td>\n",
              "      <td>1</td>\n",
              "    </tr>\n",
              "    <tr>\n",
              "      <th>20445</th>\n",
              "      <td>24</td>\n",
              "      <td>3</td>\n",
              "      <td>153583</td>\n",
              "      <td>6</td>\n",
              "      <td>10</td>\n",
              "      <td>1</td>\n",
              "      <td>6</td>\n",
              "      <td>4</td>\n",
              "      <td>1</td>\n",
              "      <td>2</td>\n",
              "      <td>0</td>\n",
              "      <td>0</td>\n",
              "      <td>40</td>\n",
              "      <td>1</td>\n",
              "    </tr>\n",
              "    <tr>\n",
              "      <th>6979</th>\n",
              "      <td>63</td>\n",
              "      <td>3</td>\n",
              "      <td>108097</td>\n",
              "      <td>6</td>\n",
              "      <td>10</td>\n",
              "      <td>2</td>\n",
              "      <td>7</td>\n",
              "      <td>2</td>\n",
              "      <td>1</td>\n",
              "      <td>1</td>\n",
              "      <td>10566</td>\n",
              "      <td>0</td>\n",
              "      <td>45</td>\n",
              "      <td>1</td>\n",
              "    </tr>\n",
              "  </tbody>\n",
              "</table>\n",
              "</div>"
            ],
            "text/plain": [
              "       Age  workclass  fnlwgt  ...  capital-loss  hours-per-week  native-country\n",
              "15256   74          6   29887  ...             0              10               1\n",
              "17396   58          3  371064  ...             0              20               1\n",
              "239     23          3  115458  ...             0              40               1\n",
              "20445   24          3  153583  ...             0              40               1\n",
              "6979    63          3  108097  ...             0              45               1\n",
              "\n",
              "[5 rows x 14 columns]"
            ]
          },
          "metadata": {},
          "execution_count": 294
        }
      ]
    },
    {
      "cell_type": "code",
      "metadata": {
        "colab": {
          "base_uri": "https://localhost:8080/"
        },
        "id": "2qnJj-e9PraD",
        "outputId": "4f9b7431-86af-440a-cc49-d9666a1e535b"
      },
      "source": [
        "y_test.head()"
      ],
      "execution_count": null,
      "outputs": [
        {
          "output_type": "execute_result",
          "data": {
            "text/plain": [
              "15256    1\n",
              "17396    1\n",
              "239      1\n",
              "20445    1\n",
              "6979     1\n",
              "Name: income, dtype: int64"
            ]
          },
          "metadata": {},
          "execution_count": 295
        }
      ]
    },
    {
      "cell_type": "code",
      "metadata": {
        "id": "PHiSyw9TPvVf"
      },
      "source": [
        "x_test_np = x_test.to_numpy()\n",
        "y_test_np = y_test.to_numpy()"
      ],
      "execution_count": null,
      "outputs": []
    },
    {
      "cell_type": "markdown",
      "metadata": {
        "id": "vOXvRu4oQPOU"
      },
      "source": [
        "##Sets de datos por utilizar\n",
        "De todo el procedimiento realizado al dataframe, se obtiene lo siguiente:\n",
        "\n",
        "*   x_train_np    -->    Set de features de entrenamiento \n",
        "*   y_train_np    -->    Set de labels de entrenamiento \n",
        "*   x_test_np    -->    Set de features de validación \n",
        "*   y_test_np    -->    Set de labels de validación \n",
        "\n",
        "Estos datos se dividieron con un formato 80/20 de manera que el 80% del dataset se almacenó en los denominados \"train\" y el 20% complementario en los denominados \"test\"\n",
        "\n"
      ]
    },
    {
      "cell_type": "markdown",
      "metadata": {
        "id": "vARFi-GPc9Ki"
      },
      "source": [
        "##Punto 1: Clasificador de datos utilizando una red del tipo MLP \n",
        "Se decidió que el paradigma que mejor se adapta para clasificar los datos corresponde a una red MLP, en donde, se sabe de antemano que tendrá una capa de entrada de 14 neuronas y una capa de salida de una sola neurona, por su parte la cantidad de capas ocultas se definirá según el comportamiento de la red, así como el resto de sus hiperparámetros."
      ]
    },
    {
      "cell_type": "markdown",
      "metadata": {
        "id": "l8GpUTxcrADF"
      },
      "source": [
        "###Pruebas de la red neurona\n",
        "Se tiene una red MLP, a la que se le realizan pruebas con distintos hiperparámetros para definir cual combinación de los mismos se ajusta al dataset."
      ]
    },
    {
      "cell_type": "markdown",
      "metadata": {
        "id": "IX1S2raGr-Jk"
      },
      "source": [
        "Para seleccionar cual configuración de hiperparámetros se ajusta mejor y arroja mejores resultados se realizaron distintas pruebas las cuales se listan en la tabla a continuación, de estas se seleccionó la que mejores resultados arrojó\n",
        "![Screenshot 2021-11-16 214451.png](data:image/png;base64,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)"
      ]
    },
    {
      "cell_type": "code",
      "metadata": {
        "id": "PIhtmt5CptAC",
        "colab": {
          "base_uri": "https://localhost:8080/"
        },
        "outputId": "8904d707-87d0-48b0-bd06-1ef21169dabb"
      },
      "source": [
        "neur = 100\n",
        "activ = 'sigmoid'\n",
        "model = keras.Sequential()\n",
        "model.add(Dense(neur, input_dim=14,activation=activ))                           # Definición de capa oculta de 100 neuronas y función de activación lineal\n",
        "model.add(Dense(neur, input_dim=neur,activation=activ))                         # Definición de capa oculta de 100 neuronas y función de activación lineal \n",
        "model.add(Dense(neur, input_dim=neur,activation=activ))                         # Definición de capa oculta de 100 neuronas y función de activación lineal                             \n",
        "model.add(Dense(1, activation = 'linear'))                                      # Definición de capa de salida de neuronas y función de activación sigmoide  \n",
        "\n",
        "model.compile(loss='mse',                                                       # Compilación del modelo, define el learning rate\n",
        "              optimizer=tf.keras.optimizers.Adam(learning_rate=0.0001),\n",
        "              metrics='accuracy')\n",
        "\n",
        "model1 = model.fit(x = x_train_np, y = y_train_np, epochs=200)                  # Corre las iteraciones del modelo, separa los datos 95% train, 5% Test"
      ],
      "execution_count": null,
      "outputs": [
        {
          "output_type": "stream",
          "name": "stdout",
          "text": [
            "Epoch 1/200\n",
            "758/758 [==============================] - 2s 2ms/step - loss: 0.2322 - accuracy: 0.7527\n",
            "Epoch 2/200\n",
            "758/758 [==============================] - 2s 2ms/step - loss: 0.1635 - accuracy: 0.7918\n",
            "Epoch 3/200\n",
            "758/758 [==============================] - 2s 2ms/step - loss: 0.1625 - accuracy: 0.7918\n",
            "Epoch 4/200\n",
            "758/758 [==============================] - 2s 2ms/step - loss: 0.1603 - accuracy: 0.7918\n",
            "Epoch 5/200\n",
            "758/758 [==============================] - 2s 2ms/step - loss: 0.1593 - accuracy: 0.7918\n",
            "Epoch 6/200\n",
            "758/758 [==============================] - 1s 2ms/step - loss: 0.1588 - accuracy: 0.7918\n",
            "Epoch 7/200\n",
            "758/758 [==============================] - 2s 2ms/step - loss: 0.1575 - accuracy: 0.7918\n",
            "Epoch 8/200\n",
            "758/758 [==============================] - 2s 2ms/step - loss: 0.1576 - accuracy: 0.7918\n",
            "Epoch 9/200\n",
            "758/758 [==============================] - 1s 2ms/step - loss: 0.1576 - accuracy: 0.7918\n",
            "Epoch 10/200\n",
            "758/758 [==============================] - 2s 2ms/step - loss: 0.1578 - accuracy: 0.7918\n",
            "Epoch 11/200\n",
            "758/758 [==============================] - 2s 2ms/step - loss: 0.1576 - accuracy: 0.7918\n",
            "Epoch 12/200\n",
            "758/758 [==============================] - 2s 2ms/step - loss: 0.1575 - accuracy: 0.7918\n",
            "Epoch 13/200\n",
            "758/758 [==============================] - 1s 2ms/step - loss: 0.1579 - accuracy: 0.7918\n",
            "Epoch 14/200\n",
            "758/758 [==============================] - 2s 2ms/step - loss: 0.1575 - accuracy: 0.7918\n",
            "Epoch 15/200\n",
            "758/758 [==============================] - 2s 2ms/step - loss: 0.1570 - accuracy: 0.7918\n",
            "Epoch 16/200\n",
            "758/758 [==============================] - 1s 2ms/step - loss: 0.1565 - accuracy: 0.7918\n",
            "Epoch 17/200\n",
            "758/758 [==============================] - 2s 2ms/step - loss: 0.1567 - accuracy: 0.7918\n",
            "Epoch 18/200\n",
            "758/758 [==============================] - 2s 2ms/step - loss: 0.1570 - accuracy: 0.7918\n",
            "Epoch 19/200\n",
            "758/758 [==============================] - 2s 2ms/step - loss: 0.1573 - accuracy: 0.7918\n",
            "Epoch 20/200\n",
            "758/758 [==============================] - 2s 2ms/step - loss: 0.1571 - accuracy: 0.7918\n",
            "Epoch 21/200\n",
            "758/758 [==============================] - 2s 2ms/step - loss: 0.1575 - accuracy: 0.7918\n",
            "Epoch 22/200\n",
            "758/758 [==============================] - 2s 2ms/step - loss: 0.1575 - accuracy: 0.7918\n",
            "Epoch 23/200\n",
            "758/758 [==============================] - 2s 2ms/step - loss: 0.1568 - accuracy: 0.7918\n",
            "Epoch 24/200\n",
            "758/758 [==============================] - 2s 2ms/step - loss: 0.1573 - accuracy: 0.7918\n",
            "Epoch 25/200\n",
            "758/758 [==============================] - 2s 2ms/step - loss: 0.1580 - accuracy: 0.7918\n",
            "Epoch 26/200\n",
            "758/758 [==============================] - 1s 2ms/step - loss: 0.1588 - accuracy: 0.7918\n",
            "Epoch 27/200\n",
            "758/758 [==============================] - 2s 2ms/step - loss: 0.1574 - accuracy: 0.7918\n",
            "Epoch 28/200\n",
            "758/758 [==============================] - 1s 2ms/step - loss: 0.1576 - accuracy: 0.7918\n",
            "Epoch 29/200\n",
            "758/758 [==============================] - 2s 2ms/step - loss: 0.1571 - accuracy: 0.7918\n",
            "Epoch 30/200\n",
            "758/758 [==============================] - 2s 2ms/step - loss: 0.1568 - accuracy: 0.7918\n",
            "Epoch 31/200\n",
            "758/758 [==============================] - 1s 2ms/step - loss: 0.1572 - accuracy: 0.7918\n",
            "Epoch 32/200\n",
            "758/758 [==============================] - 2s 2ms/step - loss: 0.1574 - accuracy: 0.7918\n",
            "Epoch 33/200\n",
            "758/758 [==============================] - 2s 2ms/step - loss: 0.1581 - accuracy: 0.7918\n",
            "Epoch 34/200\n",
            "758/758 [==============================] - 2s 2ms/step - loss: 0.1587 - accuracy: 0.7918\n",
            "Epoch 35/200\n",
            "758/758 [==============================] - 2s 2ms/step - loss: 0.1578 - accuracy: 0.7918\n",
            "Epoch 36/200\n",
            "758/758 [==============================] - 1s 2ms/step - loss: 0.1586 - accuracy: 0.7918\n",
            "Epoch 37/200\n",
            "758/758 [==============================] - 2s 2ms/step - loss: 0.1588 - accuracy: 0.7918\n",
            "Epoch 38/200\n",
            "758/758 [==============================] - 2s 2ms/step - loss: 0.1574 - accuracy: 0.7918\n",
            "Epoch 39/200\n",
            "758/758 [==============================] - 2s 2ms/step - loss: 0.1578 - accuracy: 0.7918\n",
            "Epoch 40/200\n",
            "758/758 [==============================] - 2s 2ms/step - loss: 0.1581 - accuracy: 0.7918\n",
            "Epoch 41/200\n",
            "758/758 [==============================] - 2s 2ms/step - loss: 0.1567 - accuracy: 0.7918\n",
            "Epoch 42/200\n",
            "758/758 [==============================] - 2s 2ms/step - loss: 0.1568 - accuracy: 0.7918\n",
            "Epoch 43/200\n",
            "758/758 [==============================] - 2s 2ms/step - loss: 0.1574 - accuracy: 0.7918\n",
            "Epoch 44/200\n",
            "758/758 [==============================] - 1s 2ms/step - loss: 0.1577 - accuracy: 0.7918\n",
            "Epoch 45/200\n",
            "758/758 [==============================] - 2s 2ms/step - loss: 0.1580 - accuracy: 0.7918\n",
            "Epoch 46/200\n",
            "758/758 [==============================] - 1s 2ms/step - loss: 0.1586 - accuracy: 0.7918\n",
            "Epoch 47/200\n",
            "758/758 [==============================] - 2s 2ms/step - loss: 0.1587 - accuracy: 0.7918\n",
            "Epoch 48/200\n",
            "758/758 [==============================] - 1s 2ms/step - loss: 0.1578 - accuracy: 0.7918\n",
            "Epoch 49/200\n",
            "758/758 [==============================] - 2s 2ms/step - loss: 0.1567 - accuracy: 0.7918\n",
            "Epoch 50/200\n",
            "758/758 [==============================] - 2s 2ms/step - loss: 0.1568 - accuracy: 0.7918\n",
            "Epoch 51/200\n",
            "758/758 [==============================] - 2s 2ms/step - loss: 0.1568 - accuracy: 0.7918\n",
            "Epoch 52/200\n",
            "758/758 [==============================] - 1s 2ms/step - loss: 0.1569 - accuracy: 0.7918\n",
            "Epoch 53/200\n",
            "758/758 [==============================] - 2s 2ms/step - loss: 0.1582 - accuracy: 0.7918\n",
            "Epoch 54/200\n",
            "758/758 [==============================] - 2s 2ms/step - loss: 0.1574 - accuracy: 0.7918\n",
            "Epoch 55/200\n",
            "758/758 [==============================] - 2s 2ms/step - loss: 0.1574 - accuracy: 0.7918\n",
            "Epoch 56/200\n",
            "758/758 [==============================] - 2s 2ms/step - loss: 0.1580 - accuracy: 0.7918\n",
            "Epoch 57/200\n",
            "758/758 [==============================] - 2s 2ms/step - loss: 0.1585 - accuracy: 0.7918\n",
            "Epoch 58/200\n",
            "758/758 [==============================] - 2s 2ms/step - loss: 0.1582 - accuracy: 0.7918\n",
            "Epoch 59/200\n",
            "758/758 [==============================] - 2s 2ms/step - loss: 0.1578 - accuracy: 0.7918\n",
            "Epoch 60/200\n",
            "758/758 [==============================] - 1s 2ms/step - loss: 0.1571 - accuracy: 0.7918\n",
            "Epoch 61/200\n",
            "758/758 [==============================] - 2s 2ms/step - loss: 0.1572 - accuracy: 0.7918\n",
            "Epoch 62/200\n",
            "758/758 [==============================] - 2s 2ms/step - loss: 0.1572 - accuracy: 0.7918\n",
            "Epoch 63/200\n",
            "758/758 [==============================] - 1s 2ms/step - loss: 0.1575 - accuracy: 0.7918\n",
            "Epoch 64/200\n",
            "758/758 [==============================] - 2s 2ms/step - loss: 0.1576 - accuracy: 0.7918\n",
            "Epoch 65/200\n",
            "758/758 [==============================] - 2s 2ms/step - loss: 0.1572 - accuracy: 0.7918\n",
            "Epoch 66/200\n",
            "758/758 [==============================] - 2s 2ms/step - loss: 0.1566 - accuracy: 0.7918\n",
            "Epoch 67/200\n",
            "758/758 [==============================] - 2s 2ms/step - loss: 0.1568 - accuracy: 0.7918\n",
            "Epoch 68/200\n",
            "758/758 [==============================] - 2s 2ms/step - loss: 0.1569 - accuracy: 0.7918\n",
            "Epoch 69/200\n",
            "758/758 [==============================] - 2s 2ms/step - loss: 0.1568 - accuracy: 0.7918\n",
            "Epoch 70/200\n",
            "758/758 [==============================] - 2s 2ms/step - loss: 0.1572 - accuracy: 0.7918\n",
            "Epoch 71/200\n",
            "758/758 [==============================] - 2s 2ms/step - loss: 0.1571 - accuracy: 0.7918\n",
            "Epoch 72/200\n",
            "758/758 [==============================] - 2s 2ms/step - loss: 0.1569 - accuracy: 0.7918\n",
            "Epoch 73/200\n",
            "758/758 [==============================] - 1s 2ms/step - loss: 0.1565 - accuracy: 0.7918\n",
            "Epoch 74/200\n",
            "758/758 [==============================] - 2s 2ms/step - loss: 0.1564 - accuracy: 0.7918\n",
            "Epoch 75/200\n",
            "758/758 [==============================] - 2s 2ms/step - loss: 0.1571 - accuracy: 0.7918\n",
            "Epoch 76/200\n",
            "758/758 [==============================] - 2s 2ms/step - loss: 0.1574 - accuracy: 0.7918\n",
            "Epoch 77/200\n",
            "758/758 [==============================] - 2s 2ms/step - loss: 0.1579 - accuracy: 0.7918\n",
            "Epoch 78/200\n",
            "758/758 [==============================] - 2s 2ms/step - loss: 0.1567 - accuracy: 0.7918\n",
            "Epoch 79/200\n",
            "758/758 [==============================] - 2s 2ms/step - loss: 0.1575 - accuracy: 0.7918\n",
            "Epoch 80/200\n",
            "758/758 [==============================] - 2s 2ms/step - loss: 0.1584 - accuracy: 0.7918\n",
            "Epoch 81/200\n",
            "758/758 [==============================] - 1s 2ms/step - loss: 0.1581 - accuracy: 0.7918\n",
            "Epoch 82/200\n",
            "758/758 [==============================] - 2s 2ms/step - loss: 0.1570 - accuracy: 0.7918\n",
            "Epoch 83/200\n",
            "758/758 [==============================] - 2s 2ms/step - loss: 0.1576 - accuracy: 0.7918\n",
            "Epoch 84/200\n",
            "758/758 [==============================] - 2s 2ms/step - loss: 0.1573 - accuracy: 0.7918\n",
            "Epoch 85/200\n",
            "758/758 [==============================] - 2s 2ms/step - loss: 0.1572 - accuracy: 0.7918\n",
            "Epoch 86/200\n",
            "758/758 [==============================] - 2s 2ms/step - loss: 0.1569 - accuracy: 0.7918\n",
            "Epoch 87/200\n",
            "758/758 [==============================] - 2s 2ms/step - loss: 0.1563 - accuracy: 0.7918\n",
            "Epoch 88/200\n",
            "758/758 [==============================] - 2s 2ms/step - loss: 0.1570 - accuracy: 0.7918\n",
            "Epoch 89/200\n",
            "758/758 [==============================] - 2s 2ms/step - loss: 0.1582 - accuracy: 0.7918\n",
            "Epoch 90/200\n",
            "758/758 [==============================] - 2s 2ms/step - loss: 0.1565 - accuracy: 0.7918\n",
            "Epoch 91/200\n",
            "758/758 [==============================] - 2s 2ms/step - loss: 0.1566 - accuracy: 0.7918\n",
            "Epoch 92/200\n",
            "758/758 [==============================] - 2s 2ms/step - loss: 0.1572 - accuracy: 0.7918\n",
            "Epoch 93/200\n",
            "758/758 [==============================] - 2s 2ms/step - loss: 0.1567 - accuracy: 0.7918\n",
            "Epoch 94/200\n",
            "758/758 [==============================] - 2s 2ms/step - loss: 0.1567 - accuracy: 0.7918\n",
            "Epoch 95/200\n",
            "758/758 [==============================] - 2s 2ms/step - loss: 0.1567 - accuracy: 0.7918\n",
            "Epoch 96/200\n",
            "758/758 [==============================] - 2s 2ms/step - loss: 0.1569 - accuracy: 0.7918\n",
            "Epoch 97/200\n",
            "758/758 [==============================] - 2s 2ms/step - loss: 0.1570 - accuracy: 0.7918\n",
            "Epoch 98/200\n",
            "758/758 [==============================] - 2s 2ms/step - loss: 0.1566 - accuracy: 0.7918\n",
            "Epoch 99/200\n",
            "758/758 [==============================] - 2s 2ms/step - loss: 0.1575 - accuracy: 0.7918\n",
            "Epoch 100/200\n",
            "758/758 [==============================] - 2s 2ms/step - loss: 0.1568 - accuracy: 0.7918\n",
            "Epoch 101/200\n",
            "758/758 [==============================] - 2s 2ms/step - loss: 0.1576 - accuracy: 0.7918\n",
            "Epoch 102/200\n",
            "758/758 [==============================] - 2s 2ms/step - loss: 0.1570 - accuracy: 0.7918\n",
            "Epoch 103/200\n",
            "758/758 [==============================] - 1s 2ms/step - loss: 0.1569 - accuracy: 0.7918\n",
            "Epoch 104/200\n",
            "758/758 [==============================] - 2s 2ms/step - loss: 0.1570 - accuracy: 0.7918\n",
            "Epoch 105/200\n",
            "758/758 [==============================] - 2s 2ms/step - loss: 0.1569 - accuracy: 0.7918\n",
            "Epoch 106/200\n",
            "758/758 [==============================] - 2s 2ms/step - loss: 0.1567 - accuracy: 0.7918\n",
            "Epoch 107/200\n",
            "758/758 [==============================] - 2s 2ms/step - loss: 0.1568 - accuracy: 0.7918\n",
            "Epoch 108/200\n",
            "758/758 [==============================] - 2s 2ms/step - loss: 0.1571 - accuracy: 0.7918\n",
            "Epoch 109/200\n",
            "758/758 [==============================] - 2s 2ms/step - loss: 0.1572 - accuracy: 0.7918\n",
            "Epoch 110/200\n",
            "758/758 [==============================] - 2s 2ms/step - loss: 0.1570 - accuracy: 0.7918\n",
            "Epoch 111/200\n",
            "758/758 [==============================] - 2s 2ms/step - loss: 0.1567 - accuracy: 0.7918\n",
            "Epoch 112/200\n",
            "758/758 [==============================] - 2s 2ms/step - loss: 0.1564 - accuracy: 0.7918\n",
            "Epoch 113/200\n",
            "758/758 [==============================] - 2s 2ms/step - loss: 0.1569 - accuracy: 0.7918\n",
            "Epoch 114/200\n",
            "758/758 [==============================] - 2s 2ms/step - loss: 0.1566 - accuracy: 0.7918\n",
            "Epoch 115/200\n",
            "758/758 [==============================] - 2s 2ms/step - loss: 0.1569 - accuracy: 0.7918\n",
            "Epoch 116/200\n",
            "758/758 [==============================] - 2s 2ms/step - loss: 0.1575 - accuracy: 0.7918\n",
            "Epoch 117/200\n",
            "758/758 [==============================] - 2s 2ms/step - loss: 0.1572 - accuracy: 0.7918\n",
            "Epoch 118/200\n",
            "758/758 [==============================] - 2s 2ms/step - loss: 0.1566 - accuracy: 0.7918\n",
            "Epoch 119/200\n",
            "758/758 [==============================] - 2s 2ms/step - loss: 0.1568 - accuracy: 0.7918\n",
            "Epoch 120/200\n",
            "758/758 [==============================] - 2s 2ms/step - loss: 0.1567 - accuracy: 0.7918\n",
            "Epoch 121/200\n",
            "758/758 [==============================] - 2s 2ms/step - loss: 0.1566 - accuracy: 0.7918\n",
            "Epoch 122/200\n",
            "758/758 [==============================] - 2s 2ms/step - loss: 0.1570 - accuracy: 0.7918\n",
            "Epoch 123/200\n",
            "758/758 [==============================] - 2s 2ms/step - loss: 0.1564 - accuracy: 0.7918\n",
            "Epoch 124/200\n",
            "758/758 [==============================] - 2s 2ms/step - loss: 0.1567 - accuracy: 0.7918\n",
            "Epoch 125/200\n",
            "758/758 [==============================] - 2s 2ms/step - loss: 0.1566 - accuracy: 0.7918\n",
            "Epoch 126/200\n",
            "758/758 [==============================] - 2s 2ms/step - loss: 0.1566 - accuracy: 0.7918\n",
            "Epoch 127/200\n",
            "758/758 [==============================] - 2s 2ms/step - loss: 0.1575 - accuracy: 0.7918\n",
            "Epoch 128/200\n",
            "758/758 [==============================] - 2s 2ms/step - loss: 0.1583 - accuracy: 0.7918\n",
            "Epoch 129/200\n",
            "758/758 [==============================] - 2s 2ms/step - loss: 0.1575 - accuracy: 0.7918\n",
            "Epoch 130/200\n",
            "758/758 [==============================] - 2s 2ms/step - loss: 0.1574 - accuracy: 0.7918\n",
            "Epoch 131/200\n",
            "758/758 [==============================] - 2s 2ms/step - loss: 0.1568 - accuracy: 0.7918\n",
            "Epoch 132/200\n",
            "758/758 [==============================] - 2s 2ms/step - loss: 0.1569 - accuracy: 0.7918\n",
            "Epoch 133/200\n",
            "758/758 [==============================] - 2s 2ms/step - loss: 0.1572 - accuracy: 0.7918\n",
            "Epoch 134/200\n",
            "758/758 [==============================] - 2s 2ms/step - loss: 0.1565 - accuracy: 0.7918\n",
            "Epoch 135/200\n",
            "758/758 [==============================] - 2s 2ms/step - loss: 0.1570 - accuracy: 0.7918\n",
            "Epoch 136/200\n",
            "758/758 [==============================] - 2s 2ms/step - loss: 0.1563 - accuracy: 0.7918\n",
            "Epoch 137/200\n",
            "758/758 [==============================] - 2s 2ms/step - loss: 0.1569 - accuracy: 0.7918\n",
            "Epoch 138/200\n",
            "758/758 [==============================] - 2s 2ms/step - loss: 0.1571 - accuracy: 0.7918\n",
            "Epoch 139/200\n",
            "758/758 [==============================] - 2s 2ms/step - loss: 0.1565 - accuracy: 0.7918\n",
            "Epoch 140/200\n",
            "758/758 [==============================] - 2s 2ms/step - loss: 0.1564 - accuracy: 0.7918\n",
            "Epoch 141/200\n",
            "758/758 [==============================] - 2s 2ms/step - loss: 0.1563 - accuracy: 0.7918\n",
            "Epoch 142/200\n",
            "758/758 [==============================] - 2s 2ms/step - loss: 0.1563 - accuracy: 0.7918\n",
            "Epoch 143/200\n",
            "758/758 [==============================] - 2s 2ms/step - loss: 0.1575 - accuracy: 0.7918\n",
            "Epoch 144/200\n",
            "758/758 [==============================] - 2s 2ms/step - loss: 0.1575 - accuracy: 0.7918\n",
            "Epoch 145/200\n",
            "758/758 [==============================] - 2s 2ms/step - loss: 0.1569 - accuracy: 0.7918\n",
            "Epoch 146/200\n",
            "758/758 [==============================] - 2s 2ms/step - loss: 0.1570 - accuracy: 0.7918\n",
            "Epoch 147/200\n",
            "758/758 [==============================] - 2s 2ms/step - loss: 0.1568 - accuracy: 0.7918\n",
            "Epoch 148/200\n",
            "758/758 [==============================] - 2s 2ms/step - loss: 0.1572 - accuracy: 0.7918\n",
            "Epoch 149/200\n",
            "758/758 [==============================] - 2s 2ms/step - loss: 0.1570 - accuracy: 0.7918\n",
            "Epoch 150/200\n",
            "758/758 [==============================] - 2s 2ms/step - loss: 0.1569 - accuracy: 0.7918\n",
            "Epoch 151/200\n",
            "758/758 [==============================] - 2s 2ms/step - loss: 0.1577 - accuracy: 0.7918\n",
            "Epoch 152/200\n",
            "758/758 [==============================] - 2s 2ms/step - loss: 0.1566 - accuracy: 0.7918\n",
            "Epoch 153/200\n",
            "758/758 [==============================] - 2s 2ms/step - loss: 0.1567 - accuracy: 0.7918\n",
            "Epoch 154/200\n",
            "758/758 [==============================] - 2s 2ms/step - loss: 0.1568 - accuracy: 0.7918\n",
            "Epoch 155/200\n",
            "758/758 [==============================] - 2s 2ms/step - loss: 0.1563 - accuracy: 0.7918\n",
            "Epoch 156/200\n",
            "758/758 [==============================] - 2s 2ms/step - loss: 0.1565 - accuracy: 0.7918\n",
            "Epoch 157/200\n",
            "758/758 [==============================] - 2s 2ms/step - loss: 0.1567 - accuracy: 0.7918\n",
            "Epoch 158/200\n",
            "758/758 [==============================] - 2s 2ms/step - loss: 0.1568 - accuracy: 0.7918\n",
            "Epoch 159/200\n",
            "758/758 [==============================] - 2s 2ms/step - loss: 0.1564 - accuracy: 0.7918\n",
            "Epoch 160/200\n",
            "758/758 [==============================] - 2s 2ms/step - loss: 0.1563 - accuracy: 0.7918\n",
            "Epoch 161/200\n",
            "758/758 [==============================] - 2s 2ms/step - loss: 0.1562 - accuracy: 0.7918\n",
            "Epoch 162/200\n",
            "758/758 [==============================] - 2s 2ms/step - loss: 0.1563 - accuracy: 0.7918\n",
            "Epoch 163/200\n",
            "758/758 [==============================] - 2s 2ms/step - loss: 0.1571 - accuracy: 0.7918\n",
            "Epoch 164/200\n",
            "758/758 [==============================] - 2s 2ms/step - loss: 0.1564 - accuracy: 0.7918\n",
            "Epoch 165/200\n",
            "758/758 [==============================] - 2s 2ms/step - loss: 0.1565 - accuracy: 0.7918\n",
            "Epoch 166/200\n",
            "758/758 [==============================] - 2s 2ms/step - loss: 0.1567 - accuracy: 0.7918\n",
            "Epoch 167/200\n",
            "758/758 [==============================] - 2s 2ms/step - loss: 0.1564 - accuracy: 0.7918\n",
            "Epoch 168/200\n",
            "758/758 [==============================] - 2s 2ms/step - loss: 0.1571 - accuracy: 0.7918\n",
            "Epoch 169/200\n",
            "758/758 [==============================] - 2s 2ms/step - loss: 0.1570 - accuracy: 0.7918\n",
            "Epoch 170/200\n",
            "758/758 [==============================] - 2s 2ms/step - loss: 0.1564 - accuracy: 0.7918\n",
            "Epoch 171/200\n",
            "758/758 [==============================] - 2s 2ms/step - loss: 0.1568 - accuracy: 0.7918\n",
            "Epoch 172/200\n",
            "758/758 [==============================] - 2s 2ms/step - loss: 0.1575 - accuracy: 0.7918\n",
            "Epoch 173/200\n",
            "758/758 [==============================] - 2s 2ms/step - loss: 0.1579 - accuracy: 0.7918\n",
            "Epoch 174/200\n",
            "758/758 [==============================] - 2s 2ms/step - loss: 0.1568 - accuracy: 0.7918\n",
            "Epoch 175/200\n",
            "758/758 [==============================] - 2s 2ms/step - loss: 0.1568 - accuracy: 0.7918\n",
            "Epoch 176/200\n",
            "758/758 [==============================] - 2s 2ms/step - loss: 0.1566 - accuracy: 0.7918\n",
            "Epoch 177/200\n",
            "758/758 [==============================] - 2s 2ms/step - loss: 0.1561 - accuracy: 0.7918\n",
            "Epoch 178/200\n",
            "758/758 [==============================] - 2s 2ms/step - loss: 0.1565 - accuracy: 0.7918\n",
            "Epoch 179/200\n",
            "758/758 [==============================] - 2s 2ms/step - loss: 0.1563 - accuracy: 0.7918\n",
            "Epoch 180/200\n",
            "758/758 [==============================] - 2s 2ms/step - loss: 0.1565 - accuracy: 0.7918\n",
            "Epoch 181/200\n",
            "758/758 [==============================] - 2s 2ms/step - loss: 0.1568 - accuracy: 0.7918\n",
            "Epoch 182/200\n",
            "758/758 [==============================] - 2s 2ms/step - loss: 0.1567 - accuracy: 0.7918\n",
            "Epoch 183/200\n",
            "758/758 [==============================] - 2s 2ms/step - loss: 0.1565 - accuracy: 0.7918\n",
            "Epoch 184/200\n",
            "758/758 [==============================] - 2s 2ms/step - loss: 0.1567 - accuracy: 0.7918\n",
            "Epoch 185/200\n",
            "758/758 [==============================] - 2s 2ms/step - loss: 0.1569 - accuracy: 0.7918\n",
            "Epoch 186/200\n",
            "758/758 [==============================] - 2s 2ms/step - loss: 0.1568 - accuracy: 0.7918\n",
            "Epoch 187/200\n",
            "758/758 [==============================] - 2s 2ms/step - loss: 0.1572 - accuracy: 0.7918\n",
            "Epoch 188/200\n",
            "758/758 [==============================] - 2s 2ms/step - loss: 0.1566 - accuracy: 0.7918\n",
            "Epoch 189/200\n",
            "758/758 [==============================] - 2s 2ms/step - loss: 0.1560 - accuracy: 0.7918\n",
            "Epoch 190/200\n",
            "758/758 [==============================] - 2s 2ms/step - loss: 0.1567 - accuracy: 0.7918\n",
            "Epoch 191/200\n",
            "758/758 [==============================] - 2s 2ms/step - loss: 0.1586 - accuracy: 0.7918\n",
            "Epoch 192/200\n",
            "758/758 [==============================] - 2s 2ms/step - loss: 0.1567 - accuracy: 0.7918\n",
            "Epoch 193/200\n",
            "758/758 [==============================] - 2s 2ms/step - loss: 0.1566 - accuracy: 0.7918\n",
            "Epoch 194/200\n",
            "758/758 [==============================] - 2s 2ms/step - loss: 0.1568 - accuracy: 0.7918\n",
            "Epoch 195/200\n",
            "758/758 [==============================] - 2s 2ms/step - loss: 0.1569 - accuracy: 0.7918\n",
            "Epoch 196/200\n",
            "758/758 [==============================] - 2s 2ms/step - loss: 0.1564 - accuracy: 0.7918\n",
            "Epoch 197/200\n",
            "758/758 [==============================] - 2s 2ms/step - loss: 0.1564 - accuracy: 0.7918\n",
            "Epoch 198/200\n",
            "758/758 [==============================] - 2s 2ms/step - loss: 0.1565 - accuracy: 0.7918\n",
            "Epoch 199/200\n",
            "758/758 [==============================] - 2s 2ms/step - loss: 0.1568 - accuracy: 0.7918\n",
            "Epoch 200/200\n",
            "758/758 [==============================] - 2s 2ms/step - loss: 0.1563 - accuracy: 0.7918\n"
          ]
        }
      ]
    },
    {
      "cell_type": "code",
      "metadata": {
        "colab": {
          "base_uri": "https://localhost:8080/"
        },
        "id": "5-qkd0yxvak4",
        "outputId": "1d56fb3d-a5fb-40f6-9555-e81217d454e6"
      },
      "source": [
        "lss, accr = model.evaluate(x = x_test_np, y = y_test_np)\n",
        "print(\"Loss: \", lss, \" Accuracy: \", accr*100, \"%\")"
      ],
      "execution_count": null,
      "outputs": [
        {
          "output_type": "stream",
          "name": "stdout",
          "text": [
            "190/190 [==============================] - 0s 1ms/step - loss: 0.1596 - accuracy: 0.7826\n",
            "Loss:  0.15960872173309326  Accuracy:  78.26374173164368 %\n"
          ]
        }
      ]
    },
    {
      "cell_type": "code",
      "metadata": {
        "colab": {
          "base_uri": "https://localhost:8080/",
          "height": 284
        },
        "id": "ylqpkQTzANu-",
        "outputId": "1f46d5f6-088d-43c2-fc6f-548e7d42fdb5"
      },
      "source": [
        "acc = model1.history['accuracy']                                                # Extrae datos de trainingaccuracy del modelo de la red\n",
        "loss = model1.history['loss']                                                   # Extrae datos de training loss del modelo de la red\n",
        "#val_acc = model1.history['val_accuracy']                                        # Extrae datos de validation accuracy del modelo de la red\n",
        "#val_lss = model1.history['val_loss']                                            # Extrae datos de validation loss del modelo de la red\n",
        "\n",
        "epochs = range(1, len(acc)+1)                                                   # Define la cantidad de epochs a trabajar mediante un rango\n",
        "\n",
        "plt.plot(epochs, loss, 'b', label='Training Loss')                              # Plotea el comportamiento del Training Loss con en azul su respectivo label\n",
        "plt.title('Loss Plot para la red MLP')\n",
        "plt.legend()\n",
        "plt.show()"
      ],
      "execution_count": null,
      "outputs": [
        {
          "output_type": "display_data",
          "data": {
            "image/png": "[encoded data removed]",
            "text/plain": [
              "<Figure size 432x288 with 1 Axes>"
            ]
          },
          "metadata": {}
        }
      ]
    },
    {
      "cell_type": "code",
      "metadata": {
        "colab": {
          "base_uri": "https://localhost:8080/",
          "height": 284
        },
        "id": "2iCyGuEwO-6R",
        "outputId": "a9ac992d-89f2-438c-8756-369ce562677f"
      },
      "source": [
        "plt.plot(epochs, acc, 'salmon', label='Training Accuracy')                      # Plotea el comportamiento del Testing Loss con en azul su respectivo label\n",
        "plt.title('Accuracy Plot para la red MLP')\n",
        "plt.legend()\n",
        "plt.show()"
      ],
      "execution_count": null,
      "outputs": [
        {
          "output_type": "display_data",
          "data": {
            "image/png": "[encoded data removed]",
            "text/plain": [
              "<Figure size 432x288 with 1 Axes>"
            ]
          },
          "metadata": {}
        }
      ]
    },
    {
      "cell_type": "markdown",
      "metadata": {
        "id": "1VyvPnCtPMaA"
      },
      "source": [
        "###Importancia de los Features"
      ]
    },
    {
      "cell_type": "markdown",
      "metadata": {
        "id": "fN9INu2CtSRZ"
      },
      "source": [
        "Para determinar ell nivel de importancia de los features del dataframe, se utilizó una prueba del tipo $chi^2$, esta es una prueba de hipótesis que compara la distribución observada de los datos con una distribución esperada de los datos. Con esta prueba es posible determinar cuales features tienen mayor importancia al decidir qué valor binario se utiliza a la salida de la predicción por lo que a continuación se muestra:"
      ]
    },
    {
      "cell_type": "code",
      "metadata": {
        "id": "9-2tctFBQ-PX",
        "colab": {
          "base_uri": "https://localhost:8080/"
        },
        "outputId": "1981ebf7-9984-4e52-9594-f7407ff8e127"
      },
      "source": [
        "bestfeatures = SelectKBest(score_func=chi2, k=10)\n",
        "fit = bestfeatures.fit(x_train,y_train)\n",
        "dfscores = pd.DataFrame(fit.scores_)\n",
        "dfcolumns = pd.DataFrame(x_train.columns)\n",
        "featureScores = pd.concat([dfcolumns,dfscores],axis=1)\n",
        "featureScores.columns = ['Specs','Score']                                       # Nobra el dataframe de salida\n",
        "print(featureScores.nlargest(5,'Score'))                                        # Imprime los 5 mejores features"
      ],
      "execution_count": null,
      "outputs": [
        {
          "output_type": "stream",
          "name": "stdout",
          "text": [
            "             Specs         Score\n",
            "10    capital-gain  9.822875e+06\n",
            "2           fnlwgt  1.032048e+05\n",
            "0              Age  5.219787e+03\n",
            "12  hours-per-week  4.028348e+03\n",
            "4    education-num  1.429478e+03\n"
          ]
        }
      ]
    },
    {
      "cell_type": "markdown",
      "metadata": {
        "id": "tVIv2EABuSh6"
      },
      "source": [
        "Una vez obtenidos estos features de mayor importancia para la toma de decisiones de la red se puede proceder con la creación del árbol de decisión."
      ]
    },
    {
      "cell_type": "markdown",
      "metadata": {
        "id": "LEw_piubccj3"
      },
      "source": [
        "##Punto 2: Árbol de decisión"
      ]
    },
    {
      "cell_type": "markdown",
      "metadata": {
        "id": "GDS7mGuQpviE"
      },
      "source": [
        "Para la sección del árbol de decisión, se comienza importando las librerías correspondientes a sklearn para arboles de decisión. De aquí importamos el Decision Tree Clasifier."
      ]
    },
    {
      "cell_type": "code",
      "metadata": {
        "id": "f-eeAtAKeAyt"
      },
      "source": [
        "\n",
        "from sklearn.model_selection import train_test_split\n",
        "from sklearn.tree import DecisionTreeClassifier\n"
      ],
      "execution_count": null,
      "outputs": []
    },
    {
      "cell_type": "markdown",
      "metadata": {
        "id": "uWefhYldqrGB"
      },
      "source": [
        "Lo sieguiente va a constar en la preparación de los datos. Como es solicitado, se busca una comparación con el modelo anterior, pero utilizando únicamente los 5 datos que fueron encontrados como más relevantes. Es así como se toman los conjuntos de datos x_train y x_test y se les sacan copias a las cueales se les eliminarán los datos \"menos relevantes\". "
      ]
    },
    {
      "cell_type": "code",
      "metadata": {
        "colab": {
          "base_uri": "https://localhost:8080/",
          "height": 203
        },
        "id": "EvHbUYRln7-z",
        "outputId": "20bdce32-6269-461e-b597-b7cf19bee2cb"
      },
      "source": [
        "x_train_simplified = x_train.copy()                                             #Creación de la copia de entrenamiento\n",
        "x_train_simplified.pop(\"sex\")                                                   #Eliminación de datos\n",
        "x_train_simplified.pop(\"ocupation\")\n",
        "x_train_simplified.pop(\"education\")\n",
        "x_train_simplified.pop(\"marital-status\")\n",
        "x_train_simplified.pop(\"relationship\")\n",
        "x_train_simplified.pop(\"race\")\n",
        "x_train_simplified.pop(\"capital-loss\")\n",
        "x_train_simplified.pop(\"native-country\")\n",
        "x_train_simplified.pop(\"workclass\")\n",
        "x_train_simplified.head()\n",
        "\n",
        "x_test_simplified = x_test.copy()                                               #Creación de la copia de testeo\n",
        "x_test_simplified.pop(\"sex\")                                                     #Eliminación de features innecesarios\n",
        "x_test_simplified.pop(\"ocupation\")\n",
        "x_test_simplified.pop(\"education\")\n",
        "x_test_simplified.pop(\"marital-status\")\n",
        "x_test_simplified.pop(\"relationship\")\n",
        "x_test_simplified.pop(\"race\")\n",
        "x_test_simplified.pop(\"capital-loss\")\n",
        "x_test_simplified.pop(\"native-country\")\n",
        "x_test_simplified.pop(\"workclass\")\n",
        "x_test_simplified.head()\n"
      ],
      "execution_count": null,
      "outputs": [
        {
          "output_type": "execute_result",
          "data": {
            "text/html": [
              "<div>\n",
              "<style scoped>\n",
              "    .dataframe tbody tr th:only-of-type {\n",
              "        vertical-align: middle;\n",
              "    }\n",
              "\n",
              "    .dataframe tbody tr th {\n",
              "        vertical-align: top;\n",
              "    }\n",
              "\n",
              "    .dataframe thead th {\n",
              "        text-align: right;\n",
              "    }\n",
              "</style>\n",
              "<table border=\"1\" class=\"dataframe\">\n",
              "  <thead>\n",
              "    <tr style=\"text-align: right;\">\n",
              "      <th></th>\n",
              "      <th>Age</th>\n",
              "      <th>fnlwgt</th>\n",
              "      <th>education-num</th>\n",
              "      <th>capital-gain</th>\n",
              "      <th>hours-per-week</th>\n",
              "    </tr>\n",
              "  </thead>\n",
              "  <tbody>\n",
              "    <tr>\n",
              "      <th>15256</th>\n",
              "      <td>74</td>\n",
              "      <td>29887</td>\n",
              "      <td>9</td>\n",
              "      <td>0</td>\n",
              "      <td>10</td>\n",
              "    </tr>\n",
              "    <tr>\n",
              "      <th>17396</th>\n",
              "      <td>58</td>\n",
              "      <td>371064</td>\n",
              "      <td>9</td>\n",
              "      <td>0</td>\n",
              "      <td>20</td>\n",
              "    </tr>\n",
              "    <tr>\n",
              "      <th>239</th>\n",
              "      <td>23</td>\n",
              "      <td>115458</td>\n",
              "      <td>9</td>\n",
              "      <td>0</td>\n",
              "      <td>40</td>\n",
              "    </tr>\n",
              "    <tr>\n",
              "      <th>20445</th>\n",
              "      <td>24</td>\n",
              "      <td>153583</td>\n",
              "      <td>10</td>\n",
              "      <td>0</td>\n",
              "      <td>40</td>\n",
              "    </tr>\n",
              "    <tr>\n",
              "      <th>6979</th>\n",
              "      <td>63</td>\n",
              "      <td>108097</td>\n",
              "      <td>10</td>\n",
              "      <td>10566</td>\n",
              "      <td>45</td>\n",
              "    </tr>\n",
              "  </tbody>\n",
              "</table>\n",
              "</div>"
            ],
            "text/plain": [
              "       Age  fnlwgt  education-num  capital-gain  hours-per-week\n",
              "15256   74   29887              9             0              10\n",
              "17396   58  371064              9             0              20\n",
              "239     23  115458              9             0              40\n",
              "20445   24  153583             10             0              40\n",
              "6979    63  108097             10         10566              45"
            ]
          },
          "metadata": {},
          "execution_count": 303
        }
      ]
    },
    {
      "cell_type": "markdown",
      "metadata": {
        "id": "g1VkaH-wtClw"
      },
      "source": [
        "Finalmente se crea el modelo de arbol de decisión, a este se le insertarán los conjuntos de entrenamiento. Luego de esto crearemos un modelo de predicciones, donde se insertará el conjunto de features de testeo y este será comprobado con los labels de testeo en un accuracy_score. \n",
        "Finalmente este accuracy se colocará en porcentaje y este será el dato a comparar con el porcentaje dado en la mlp con todos los features. \n",
        "A la hora de definir el DecisionTreeClassifier hay ciertos parámetros que permiten tener una mejor clasificación, se tienen los siguientes: \n",
        "\n",
        "* Criterion: Que define la calidad dela división. En este caso de usó entropy\n",
        "* Splitter: Escoge la división en cada nodo, ya sea random o best, en este caso se utilizó best.\n",
        "* max_depth: Define la profundidad máxima del arbol y es uno de los criterior que más varía el accuracy obtenido, el mejor resultado se obtuvo con el valor mostrado en la red, luego de varias iteraciones aumentando y disminuyendo elvalor. \n",
        "* max_features: la cantidad de features que se considera para cada división del árbol, en este caso no se colocó, puesto que el default considera todos los features que se colocan en el modelo, que es lo que se busca. \n",
        "* max_leaf_nodes : Este parametro define los nodos maximos por hoja, logrando con esto un numero limitado por hoja, en caso de dejarlo en blanco, su default generará nodos por hoja ilimitados, luego de varialo varias veces,el mejor resultado se presentó con este numero de nodos restringido a 50.\n",
        "\n",
        "Estos fueron los parametros más importantes considerados a la hora de crear el arbol y que generaron un mejor resultado.\n",
        "\n",
        "\n"
      ]
    },
    {
      "cell_type": "code",
      "metadata": {
        "colab": {
          "base_uri": "https://localhost:8080/"
        },
        "id": "k7gCH5m_eE3S",
        "outputId": "e05799c6-def6-441b-98f1-2549eb3f54af"
      },
      "source": [
        "\n",
        "modelo = DecisionTreeClassifier(criterion = 'entropy', splitter = 'best',\n",
        "                                max_depth = 5, max_leaf_nodes = 50)\n",
        "modelo.fit(x_train_simplified,y_train)\n",
        "predicciones = modelo.predict(X = x_test_simplified)\n",
        "\n",
        "accuracy = accuracy_score(\n",
        "            y_true    = y_test,\n",
        "            y_pred    = predicciones,\n",
        "            normalize = True\n",
        "           )\n",
        "print(predicciones)\n",
        "print(f\"El accuracy de test es: {100 * accuracy} %\")"
      ],
      "execution_count": null,
      "outputs": [
        {
          "output_type": "stream",
          "name": "stdout",
          "text": [
            "[1 1 1 ... 1 1 1]\n",
            "El accuracy de test es: 81.96071959069154 %\n"
          ]
        }
      ]
    },
    {
      "cell_type": "markdown",
      "metadata": {
        "id": "q5NqzOT_tq0i"
      },
      "source": [
        "Como se puede observar, en comparación con la MLP, el dato de accuracy pasó de 78.26% a 81.96%, siendo incluso mejor que con todos los features que daban en el set de datos original. Esto se logró debido a que los parámetros se probaron buscando el mejor escenario posible. \n",
        "Viendo este resultado, puede decirse que los datos tomados como más importantes son suficientes para dar un resultado fiable, e incluso mejor que considerando todos los features del set de datos. También puede concluirse que la prueba y error permite encontrar parámetros en el arbol de decisión que favorezcan el accuracy, ayudando a que se obtengan buenos resultados aún con menos datos. "
      ]
    },
    {
      "cell_type": "markdown",
      "metadata": {
        "id": "uufbSNa_cl_Y"
      },
      "source": [
        "##Punto 3: Clasificador de datos utilizando Random Forest"
      ]
    },
    {
      "cell_type": "markdown",
      "metadata": {
        "id": "kJ9bNd_8x5X8"
      },
      "source": [
        "Como se solicita en el enunciado se diseña un paradigma distinto al anterior (punto 1) y por esto se selecciona el Random Forest, el cual se basa en arboles de desición para generar la clasificación de los datos."
      ]
    },
    {
      "cell_type": "markdown",
      "metadata": {
        "id": "yl51aDqjhmJn"
      },
      "source": [
        "Para la red con randomforest, se utilizan los siguientes parámetros:\n",
        " \n",
        "*   **n_estimators:** se definirá un número de 1000 árboles en el forest debido a la gran cantidad de datos\n",
        "*   **criterion:** después de probar ambos criterios, se determinó que entropy arroja mejores resultados para la red que se tiene\n",
        "*   **max_depth:** después de múltiples pruebas con valores altos y bajos para la profundidad máxima, el valor de profundiad máxima que mejores resultados arrojó es de 50, tanto con valores  de 100 o más y de 5 o ménos se determinó que el accuracy de la red se disminuía en aproximadamente un 0.5%\n",
        "*   **max_leaf_nodes:** el mejor resultado se obtuvo cuando el número de nodos en hojas se dejó en none, lo cual por defecto es un ilimitado.\n",
        "\n",
        "\n",
        "\n"
      ]
    },
    {
      "cell_type": "code",
      "metadata": {
        "id": "QVdlFy4YzTk-",
        "colab": {
          "base_uri": "https://localhost:8080/"
        },
        "outputId": "a0f4e51a-2f79-4f3e-dc85-7b8dcbcc188b"
      },
      "source": [
        "model3 = RandomForestClassifier(n_estimators = 500, criterion = 'entropy', \n",
        "                                max_depth = 50)                                 # Crea el random forest con 500 árboles\n",
        "model3.fit(x_train, y_train)\n"
      ],
      "execution_count": null,
      "outputs": [
        {
          "output_type": "execute_result",
          "data": {
            "text/plain": [
              "RandomForestClassifier(criterion='entropy', max_depth=50, n_estimators=500)"
            ]
          },
          "metadata": {},
          "execution_count": 305
        }
      ]
    },
    {
      "cell_type": "code",
      "metadata": {
        "id": "WAqIogoVgLKK"
      },
      "source": [
        "y_pred = model3.predict(x_test)                                                 # Realiza una predicción para un set de datos de prueba\n"
      ],
      "execution_count": null,
      "outputs": []
    },
    {
      "cell_type": "code",
      "metadata": {
        "colab": {
          "base_uri": "https://localhost:8080/"
        },
        "id": "hI6uyS7mnc4e",
        "outputId": "87cce889-d454-46ef-8b02-7733c78a199a"
      },
      "source": [
        "print(y_pred)"
      ],
      "execution_count": null,
      "outputs": [
        {
          "output_type": "stream",
          "name": "stdout",
          "text": [
            "[1 1 1 ... 1 1 2]\n"
          ]
        }
      ]
    },
    {
      "cell_type": "code",
      "metadata": {
        "colab": {
          "base_uri": "https://localhost:8080/"
        },
        "id": "xAUBcBulnmYj",
        "outputId": "6046826d-f437-4d62-83f7-e05dfd8c659f"
      },
      "source": [
        "acc_3 = accuracy_score(y_test, y_pred)                                          # Evalua el resultado de dicha predicció comparando cin los valores reales\n",
        "print(\"Accuracy: \", acc_3*100, \"%\")"
      ],
      "execution_count": null,
      "outputs": [
        {
          "output_type": "stream",
          "name": "stdout",
          "text": [
            "Accuracy:  85.36062056444958 %\n"
          ]
        }
      ]
    },
    {
      "cell_type": "markdown",
      "metadata": {
        "id": "IrFOHyVL50mj"
      },
      "source": [
        "Por tanto se determina que de las 3 redes, la densa, el árbol de decisión y el Random Forest esta presenta los mejores resultados."
      ]
    },
    {
      "cell_type": "markdown",
      "metadata": {
        "id": "ubokZhb-6Hnk"
      },
      "source": [
        "##Conclusiones\n",
        "\n",
        "\n",
        "*   En la red de tipo densa, se obtuvo que para todos los posibles hiperparámetros por variar, el accuracy en la mayor parte de ellos se mantuvo constante, sin embargo el Loss si variaba, lo cual se le atribuye a la cantidad de características que debía considerar la red al clasificar los datos. Además este tipo de red tienen un gran coste computacional debido a la densidad usada.\n",
        "*   Para el árbol de decisión, luego de obtener las 5 características más importantes a la hora de tomar una decisión de clasificación, se determinó que el truncar el conjunto de datos empeora de cierta forma la toma de desición, se reduce cerca del 2% de accuracy, esto debido a que los 9 datos restantes, a pesar de ser menos significativos, tienen una participación en la toma de esa decisión. Sin embargo, respecto a la red MLP se obtuvo una mejora significativa, de alrededor de un 2% en el accuracy por lo cual este tipo de paradigma, para el conjunto de datos que se tiene permite una mejor clasificación.\n",
        "*   Para el conjunto de datos completo, implementado en la red RandomForest se obtuvo la mejor de todas las clasificaciones, esto gracias a que combina el buen rendimiento que demostraron tener los árboles de decisión en un gran número de ellos, por lo que posee muchas clasificaciones de las cuales se extrae un accuracy de un 85% en la clasificación, lo que representa la mejor clasificación respecto al 81% del árbol de decisión y el 79% de la red densa.\n",
        "\n"
      ]
    }
  ]
}